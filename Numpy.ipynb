{
 "cells": [
  {
   "cell_type": "code",
   "execution_count": 2,
   "metadata": {},
   "outputs": [
    {
     "name": "stdout",
     "output_type": "stream",
     "text": [
      "1 2 3 4 5\n",
      "[6 2 3 4 5]\n"
     ]
    }
   ],
   "source": [
    "import numpy as np\n",
    "x = np.array([1,2,3,4,5])\n",
    "print(x[0],x[1],x[2],x[3],x[4])\n",
    "x[0]=6\n",
    "print(x)"
   ]
  },
  {
   "cell_type": "code",
   "execution_count": 3,
   "metadata": {},
   "outputs": [
    {
     "name": "stdout",
     "output_type": "stream",
     "text": [
      "[1 2 3 4 5]\n",
      "[[77 88 99]\n",
      " [66 77 32]\n",
      " [33 56 87]]\n",
      "[1 2 3 4 5]\n",
      "[2 3]\n"
     ]
    }
   ],
   "source": [
    "import numpy as np\n",
    "\n",
    "# create an array from a list\n",
    "npArray1 = np.array([1,2,3,4,5])\n",
    "\n",
    "# create 2D array\n",
    "npArray2 = np.array([[77,88,99],[66,77,32],[33,56,87]])\n",
    "\n",
    "# create an array from a tuple\n",
    "npArray3 = np.array((1,2,3,4,5))\n",
    "\n",
    "# create an array from a range \n",
    "npArray4 = np.array(range(2,4))\n",
    "\n",
    "print(npArray1)\n",
    "print(npArray2)\n",
    "print(npArray3)\n",
    "print(npArray4)"
   ]
  },
  {
   "cell_type": "code",
   "execution_count": 5,
   "metadata": {},
   "outputs": [
    {
     "name": "stdout",
     "output_type": "stream",
     "text": [
      "4\n",
      "(2, 2)\n",
      "2\n",
      "4\n",
      "(2, 2)\n",
      "2\n"
     ]
    }
   ],
   "source": [
    "import numpy as np\n",
    "x = np.array([[1,2],[3,4]])\n",
    "\n",
    "print(np.size(x))\n",
    "print(np.shape(x))\n",
    "print(np.ndim(x))\n",
    "\n",
    "# same\n",
    "\n",
    "print(x.size)\n",
    "print(x.shape)\n",
    "print(x.ndim)\n"
   ]
  },
  {
   "cell_type": "code",
   "execution_count": 8,
   "metadata": {},
   "outputs": [
    {
     "name": "stdout",
     "output_type": "stream",
     "text": [
      "[[ 5. 12.]\n",
      " [15. 20.]]\n"
     ]
    }
   ],
   "source": [
    "import numpy as np\n",
    "a = np.array([[1,2],[3,4]],dtype=float)\n",
    "b = np.array([[5,6],[5,5]],dtype=float)\n",
    "print(a*b)"
   ]
  },
  {
   "cell_type": "code",
   "execution_count": 11,
   "metadata": {},
   "outputs": [
    {
     "name": "stdout",
     "output_type": "stream",
     "text": [
      "[ 5. 10.  9.]\n",
      "[-1. -2. -1.]\n",
      "[ 6. 24. 20.]\n",
      "[0. 0. 0.]\n",
      "[0.66666667 0.66666667 0.8       ]\n",
      "[2. 4. 4.]\n",
      "[   8. 4096. 1024.]\n"
     ]
    }
   ],
   "source": [
    "import numpy as np\n",
    "a = np.array([2,4,4],dtype=float)\n",
    "b = np.array([3,6,5],dtype=float)\n",
    "\n",
    "print(a+b)\n",
    "print(a-b)\n",
    "print(a*b)\n",
    "print(a//b)\n",
    "print(a/b)\n",
    "print(a%b)\n",
    "print(a**b)"
   ]
  },
  {
   "cell_type": "code",
   "execution_count": 12,
   "metadata": {},
   "outputs": [
    {
     "name": "stdout",
     "output_type": "stream",
     "text": [
      "[[ 4. 24.]\n",
      " [30.  6.]]\n"
     ]
    }
   ],
   "source": [
    "# array 2D\n",
    "a = np.array([[2,4],[5,2]],dtype=float)\n",
    "b = np.array([[2,6],[6,3]],dtype=float)\n",
    "print(a*b)"
   ]
  },
  {
   "cell_type": "code",
   "execution_count": 15,
   "metadata": {},
   "outputs": [
    {
     "name": "stdout",
     "output_type": "stream",
     "text": [
      "[[ 19  51  35]\n",
      " [214 572 394]\n",
      " [141 117 237]]\n"
     ]
    }
   ],
   "source": [
    "# dot product \n",
    "a = np.array([[3,2,5],[2,9,4]])\n",
    "b = np.array([[3,5],[34,56],[45,3]])\n",
    "c = np.dot(b,a)\n",
    "print(c)"
   ]
  },
  {
   "cell_type": "code",
   "execution_count": 16,
   "metadata": {},
   "outputs": [
    {
     "name": "stdout",
     "output_type": "stream",
     "text": [
      "10\n",
      "3855600\n"
     ]
    }
   ],
   "source": [
    "a = np.array([2,6,2])\n",
    "print(a.sum())\n",
    "print(b.prod())"
   ]
  },
  {
   "cell_type": "code",
   "execution_count": 17,
   "metadata": {},
   "outputs": [
    {
     "name": "stdout",
     "output_type": "stream",
     "text": [
      "[[2 4]\n",
      " [3 6]\n",
      " [5 3]]\n"
     ]
    }
   ],
   "source": [
    "a = np.array([[1,2],[2,4],[4,1]])\n",
    "b = np.array([1,2])\n",
    "print(a+b)\n"
   ]
  },
  {
   "cell_type": "code",
   "execution_count": 18,
   "metadata": {},
   "outputs": [
    {
     "name": "stdout",
     "output_type": "stream",
     "text": [
      "[3.        6.4807407]\n"
     ]
    }
   ],
   "source": [
    "a = np.array([9,42],dtype=float)\n",
    "print(np.sqrt(a))"
   ]
  },
  {
   "cell_type": "code",
   "execution_count": 20,
   "metadata": {},
   "outputs": [
    {
     "name": "stdout",
     "output_type": "stream",
     "text": [
      "2.0\n",
      "2.0\n",
      "0.6666666666666666\n",
      "0.6666666666666666\n",
      "0.816496580927726\n",
      "0.816496580927726\n"
     ]
    }
   ],
   "source": [
    "a = np.array([1,2,3],dtype=float)\n",
    "print(a.mean())\n",
    "print(np.mean(a))\n",
    "\n",
    "print(a.var())\n",
    "print(np.var(a))\n",
    "\n",
    "print(a.std())\n",
    "print(np.std(a))"
   ]
  },
  {
   "cell_type": "code",
   "execution_count": 22,
   "metadata": {},
   "outputs": [
    {
     "name": "stdout",
     "output_type": "stream",
     "text": [
      "[1, 2, 4, 5, 6, 6, 7]\n"
     ]
    }
   ],
   "source": [
    "a = np.array([7,2,4,1,5,6,6])\n",
    "b = sorted(a)\n",
    "print(b)"
   ]
  },
  {
   "cell_type": "code",
   "execution_count": 24,
   "metadata": {},
   "outputs": [
    {
     "name": "stdout",
     "output_type": "stream",
     "text": [
      "1\n",
      "1\n",
      "7\n",
      "7\n",
      "4\n",
      "4\n",
      "3\n",
      "3\n"
     ]
    }
   ],
   "source": [
    "a = np.array([5,2,5,7,1])\n",
    "print(a.min())\n",
    "print(np.min(a))\n",
    "\n",
    "print(a.max())\n",
    "print(np.max(a))\n",
    "\n",
    "print(a.argmin())\n",
    "print(np.argmin(a))\n",
    "\n",
    "print(a.argmax())\n",
    "print(np.argmax(a))"
   ]
  },
  {
   "cell_type": "code",
   "execution_count": 27,
   "metadata": {},
   "outputs": [
    {
     "name": "stdout",
     "output_type": "stream",
     "text": [
      "[0 1 2 3 4 5 6]\n",
      "[0 1 2 3 4 0 1]\n"
     ]
    }
   ],
   "source": [
    "a = np.array([0,1,2,3,4,5,6])\n",
    "print(a)\n",
    "\n",
    "a[5] = 0\n",
    "a[6] = 1\n",
    "\n",
    "print(a)"
   ]
  },
  {
   "cell_type": "code",
   "execution_count": 34,
   "metadata": {},
   "outputs": [
    {
     "name": "stdout",
     "output_type": "stream",
     "text": [
      "[[1 1 1]\n",
      " [1 1 1]]\n",
      "/n\n",
      "[[1 2 1]\n",
      " [1 1 1]]\n"
     ]
    }
   ],
   "source": [
    "new_array = np.array([[1,1,1],[1,1,1]])\n",
    "print(new_array)\n",
    "new_array[0,1] = 2\n",
    "print(\"/n\")\n",
    "print(new_array)"
   ]
  },
  {
   "cell_type": "code",
   "execution_count": 46,
   "metadata": {},
   "outputs": [
    {
     "name": "stdout",
     "output_type": "stream",
     "text": [
      "[[1 1 1]\n",
      " [1 1 1]]\n",
      "/n\n",
      "[[2 2 2]\n",
      " [2 1 1]]\n"
     ]
    }
   ],
   "source": [
    "new_array = np.array([[1,1,1,],[1,1,1]])\n",
    "print(new_array)\n",
    "\n",
    "# row\n",
    "new_array[0,:] = 2\n",
    "# column\n",
    "new_array[:,0] = 2\n",
    "print(\"/n\")\n",
    "print(new_array)"
   ]
  },
  {
   "cell_type": "code",
   "execution_count": 66,
   "metadata": {},
   "outputs": [
    {
     "data": {
      "text/plain": [
       "array([1, 3, 5])"
      ]
     },
     "execution_count": 66,
     "metadata": {},
     "output_type": "execute_result"
    }
   ],
   "source": [
    "import numpy as np\n",
    "\n",
    "array_a = np.array([0,1,2,3,4,5,6,7])\n",
    "array_a[1:7:2]"
   ]
  },
  {
   "cell_type": "code",
   "execution_count": 67,
   "metadata": {},
   "outputs": [
    {
     "data": {
      "text/plain": [
       "array([11])"
      ]
     },
     "execution_count": 67,
     "metadata": {},
     "output_type": "execute_result"
    }
   ],
   "source": [
    "array_b = np.array([11,22,33,44,55])\n",
    "array_b[0:1]"
   ]
  },
  {
   "cell_type": "code",
   "execution_count": 68,
   "metadata": {},
   "outputs": [
    {
     "data": {
      "text/plain": [
       "array([5, 6])"
      ]
     },
     "execution_count": 68,
     "metadata": {},
     "output_type": "execute_result"
    }
   ],
   "source": [
    "array_c = np.array([0,1,2,3,4,5,6])\n",
    "array_c[5:]"
   ]
  },
  {
   "cell_type": "code",
   "execution_count": 79,
   "metadata": {},
   "outputs": [
    {
     "name": "stdout",
     "output_type": "stream",
     "text": [
      "[[ 3  6  9 12]\n",
      " [15 18 21 24]\n",
      " [27 30 33 36]\n",
      " [39 42 45 48]\n",
      " [51 54 57 50]]\n",
      "/n\n",
      "[[ 6 12]\n",
      " [30 36]\n",
      " [54 50]]\n"
     ]
    }
   ],
   "source": [
    "sampleArray = np.array([[3,6,9,12],[15,18,21,24],[27,30,33,36],[39,42,45,48],[51,54,57,50]])\n",
    "print(sampleArray)\n",
    "\n",
    "print(\"/n\")\n",
    "\n",
    "# cut column\n",
    "slice_array = sampleArray[::2,1:4:2]\n",
    "print(slice_array)\n",
    "\n"
   ]
  },
  {
   "cell_type": "code",
   "execution_count": null,
   "metadata": {},
   "outputs": [],
   "source": []
  }
 ],
 "metadata": {
  "kernelspec": {
   "display_name": "Python 3",
   "language": "python",
   "name": "python3"
  },
  "language_info": {
   "codemirror_mode": {
    "name": "ipython",
    "version": 3
   },
   "file_extension": ".py",
   "mimetype": "text/x-python",
   "name": "python",
   "nbconvert_exporter": "python",
   "pygments_lexer": "ipython3",
   "version": "3.9.2+"
  }
 },
 "nbformat": 4,
 "nbformat_minor": 2
}
