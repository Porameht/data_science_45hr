{
 "cells": [
  {
   "cell_type": "code",
   "execution_count": 14,
   "metadata": {
    "collapsed": true
   },
   "outputs": [
    {
     "ename": "FileNotFoundError",
     "evalue": "[Errno 2] No such file or directory: 'D:\\\\student.csv'",
     "output_type": "error",
     "traceback": [
      "\u001b[0;31m---------------------------------------------------------------------------\u001b[0m",
      "\u001b[0;31mFileNotFoundError\u001b[0m                         Traceback (most recent call last)",
      "\u001b[0;32m<ipython-input-14-f260e6f7637f>\u001b[0m in \u001b[0;36m<module>\u001b[0;34m\u001b[0m\n\u001b[1;32m      3\u001b[0m \u001b[0;32mimport\u001b[0m \u001b[0mpandas\u001b[0m \u001b[0;32mas\u001b[0m \u001b[0mpd\u001b[0m\u001b[0;34m\u001b[0m\u001b[0;34m\u001b[0m\u001b[0m\n\u001b[1;32m      4\u001b[0m \u001b[0;34m\u001b[0m\u001b[0m\n\u001b[0;32m----> 5\u001b[0;31m \u001b[0mstudent_gpa\u001b[0m \u001b[0;34m=\u001b[0m \u001b[0mpd\u001b[0m\u001b[0;34m.\u001b[0m\u001b[0mread_csv\u001b[0m\u001b[0;34m(\u001b[0m\u001b[0;34m'D:\\student.csv'\u001b[0m\u001b[0;34m)\u001b[0m\u001b[0;34m\u001b[0m\u001b[0;34m\u001b[0m\u001b[0m\n\u001b[0m\u001b[1;32m      6\u001b[0m \u001b[0mstudent_gpa\u001b[0m\u001b[0;34m.\u001b[0m\u001b[0mhead\u001b[0m\u001b[0;34m(\u001b[0m\u001b[0;34m)\u001b[0m\u001b[0;34m\u001b[0m\u001b[0;34m\u001b[0m\u001b[0m\n\u001b[1;32m      7\u001b[0m \u001b[0mstudent_gpa\u001b[0m\u001b[0;34m.\u001b[0m\u001b[0mtail\u001b[0m\u001b[0;34m\u001b[0m\u001b[0;34m\u001b[0m\u001b[0m\n",
      "\u001b[0;32m/private/var/containers/Bundle/Application/6399D43E-5849-4FA1-A605-5EC067D50637/Carnets.app/Library/lib/python3.9/site-packages/pandas/io/parsers.py\u001b[0m in \u001b[0;36mread_csv\u001b[0;34m(filepath_or_buffer, sep, delimiter, header, names, index_col, usecols, squeeze, prefix, mangle_dupe_cols, dtype, engine, converters, true_values, false_values, skipinitialspace, skiprows, skipfooter, nrows, na_values, keep_default_na, na_filter, verbose, skip_blank_lines, parse_dates, infer_datetime_format, keep_date_col, date_parser, dayfirst, cache_dates, iterator, chunksize, compression, thousands, decimal, lineterminator, quotechar, quoting, doublequote, escapechar, comment, encoding, dialect, error_bad_lines, warn_bad_lines, delim_whitespace, low_memory, memory_map, float_precision, storage_options)\u001b[0m\n\u001b[1;32m    608\u001b[0m     \u001b[0mkwds\u001b[0m\u001b[0;34m.\u001b[0m\u001b[0mupdate\u001b[0m\u001b[0;34m(\u001b[0m\u001b[0mkwds_defaults\u001b[0m\u001b[0;34m)\u001b[0m\u001b[0;34m\u001b[0m\u001b[0;34m\u001b[0m\u001b[0m\n\u001b[1;32m    609\u001b[0m \u001b[0;34m\u001b[0m\u001b[0m\n\u001b[0;32m--> 610\u001b[0;31m     \u001b[0;32mreturn\u001b[0m \u001b[0m_read\u001b[0m\u001b[0;34m(\u001b[0m\u001b[0mfilepath_or_buffer\u001b[0m\u001b[0;34m,\u001b[0m \u001b[0mkwds\u001b[0m\u001b[0;34m)\u001b[0m\u001b[0;34m\u001b[0m\u001b[0;34m\u001b[0m\u001b[0m\n\u001b[0m\u001b[1;32m    611\u001b[0m \u001b[0;34m\u001b[0m\u001b[0m\n\u001b[1;32m    612\u001b[0m \u001b[0;34m\u001b[0m\u001b[0m\n",
      "\u001b[0;32m/private/var/containers/Bundle/Application/6399D43E-5849-4FA1-A605-5EC067D50637/Carnets.app/Library/lib/python3.9/site-packages/pandas/io/parsers.py\u001b[0m in \u001b[0;36m_read\u001b[0;34m(filepath_or_buffer, kwds)\u001b[0m\n\u001b[1;32m    460\u001b[0m \u001b[0;34m\u001b[0m\u001b[0m\n\u001b[1;32m    461\u001b[0m     \u001b[0;31m# Create the parser.\u001b[0m\u001b[0;34m\u001b[0m\u001b[0;34m\u001b[0m\u001b[0;34m\u001b[0m\u001b[0m\n\u001b[0;32m--> 462\u001b[0;31m     \u001b[0mparser\u001b[0m \u001b[0;34m=\u001b[0m \u001b[0mTextFileReader\u001b[0m\u001b[0;34m(\u001b[0m\u001b[0mfilepath_or_buffer\u001b[0m\u001b[0;34m,\u001b[0m \u001b[0;34m**\u001b[0m\u001b[0mkwds\u001b[0m\u001b[0;34m)\u001b[0m\u001b[0;34m\u001b[0m\u001b[0;34m\u001b[0m\u001b[0m\n\u001b[0m\u001b[1;32m    463\u001b[0m \u001b[0;34m\u001b[0m\u001b[0m\n\u001b[1;32m    464\u001b[0m     \u001b[0;32mif\u001b[0m \u001b[0mchunksize\u001b[0m \u001b[0;32mor\u001b[0m \u001b[0miterator\u001b[0m\u001b[0;34m:\u001b[0m\u001b[0;34m\u001b[0m\u001b[0;34m\u001b[0m\u001b[0m\n",
      "\u001b[0;32m/private/var/containers/Bundle/Application/6399D43E-5849-4FA1-A605-5EC067D50637/Carnets.app/Library/lib/python3.9/site-packages/pandas/io/parsers.py\u001b[0m in \u001b[0;36m__init__\u001b[0;34m(self, f, engine, **kwds)\u001b[0m\n\u001b[1;32m    817\u001b[0m             \u001b[0mself\u001b[0m\u001b[0;34m.\u001b[0m\u001b[0moptions\u001b[0m\u001b[0;34m[\u001b[0m\u001b[0;34m\"has_index_names\"\u001b[0m\u001b[0;34m]\u001b[0m \u001b[0;34m=\u001b[0m \u001b[0mkwds\u001b[0m\u001b[0;34m[\u001b[0m\u001b[0;34m\"has_index_names\"\u001b[0m\u001b[0;34m]\u001b[0m\u001b[0;34m\u001b[0m\u001b[0;34m\u001b[0m\u001b[0m\n\u001b[1;32m    818\u001b[0m \u001b[0;34m\u001b[0m\u001b[0m\n\u001b[0;32m--> 819\u001b[0;31m         \u001b[0mself\u001b[0m\u001b[0;34m.\u001b[0m\u001b[0m_engine\u001b[0m \u001b[0;34m=\u001b[0m \u001b[0mself\u001b[0m\u001b[0;34m.\u001b[0m\u001b[0m_make_engine\u001b[0m\u001b[0;34m(\u001b[0m\u001b[0mself\u001b[0m\u001b[0;34m.\u001b[0m\u001b[0mengine\u001b[0m\u001b[0;34m)\u001b[0m\u001b[0;34m\u001b[0m\u001b[0;34m\u001b[0m\u001b[0m\n\u001b[0m\u001b[1;32m    820\u001b[0m \u001b[0;34m\u001b[0m\u001b[0m\n\u001b[1;32m    821\u001b[0m     \u001b[0;32mdef\u001b[0m \u001b[0mclose\u001b[0m\u001b[0;34m(\u001b[0m\u001b[0mself\u001b[0m\u001b[0;34m)\u001b[0m\u001b[0;34m:\u001b[0m\u001b[0;34m\u001b[0m\u001b[0;34m\u001b[0m\u001b[0m\n",
      "\u001b[0;32m/private/var/containers/Bundle/Application/6399D43E-5849-4FA1-A605-5EC067D50637/Carnets.app/Library/lib/python3.9/site-packages/pandas/io/parsers.py\u001b[0m in \u001b[0;36m_make_engine\u001b[0;34m(self, engine)\u001b[0m\n\u001b[1;32m   1048\u001b[0m             )\n\u001b[1;32m   1049\u001b[0m         \u001b[0;31m# error: Too many arguments for \"ParserBase\"\u001b[0m\u001b[0;34m\u001b[0m\u001b[0;34m\u001b[0m\u001b[0;34m\u001b[0m\u001b[0m\n\u001b[0;32m-> 1050\u001b[0;31m         \u001b[0;32mreturn\u001b[0m \u001b[0mmapping\u001b[0m\u001b[0;34m[\u001b[0m\u001b[0mengine\u001b[0m\u001b[0;34m]\u001b[0m\u001b[0;34m(\u001b[0m\u001b[0mself\u001b[0m\u001b[0;34m.\u001b[0m\u001b[0mf\u001b[0m\u001b[0;34m,\u001b[0m \u001b[0;34m**\u001b[0m\u001b[0mself\u001b[0m\u001b[0;34m.\u001b[0m\u001b[0moptions\u001b[0m\u001b[0;34m)\u001b[0m  \u001b[0;31m# type: ignore[call-arg]\u001b[0m\u001b[0;34m\u001b[0m\u001b[0;34m\u001b[0m\u001b[0m\n\u001b[0m\u001b[1;32m   1051\u001b[0m \u001b[0;34m\u001b[0m\u001b[0m\n\u001b[1;32m   1052\u001b[0m     \u001b[0;32mdef\u001b[0m \u001b[0m_failover_to_python\u001b[0m\u001b[0;34m(\u001b[0m\u001b[0mself\u001b[0m\u001b[0;34m)\u001b[0m\u001b[0;34m:\u001b[0m\u001b[0;34m\u001b[0m\u001b[0;34m\u001b[0m\u001b[0m\n",
      "\u001b[0;32m/private/var/containers/Bundle/Application/6399D43E-5849-4FA1-A605-5EC067D50637/Carnets.app/Library/lib/python3.9/site-packages/pandas/io/parsers.py\u001b[0m in \u001b[0;36m__init__\u001b[0;34m(self, src, **kwds)\u001b[0m\n\u001b[1;32m   1865\u001b[0m \u001b[0;34m\u001b[0m\u001b[0m\n\u001b[1;32m   1866\u001b[0m         \u001b[0;31m# open handles\u001b[0m\u001b[0;34m\u001b[0m\u001b[0;34m\u001b[0m\u001b[0;34m\u001b[0m\u001b[0m\n\u001b[0;32m-> 1867\u001b[0;31m         \u001b[0mself\u001b[0m\u001b[0;34m.\u001b[0m\u001b[0m_open_handles\u001b[0m\u001b[0;34m(\u001b[0m\u001b[0msrc\u001b[0m\u001b[0;34m,\u001b[0m \u001b[0mkwds\u001b[0m\u001b[0;34m)\u001b[0m\u001b[0;34m\u001b[0m\u001b[0;34m\u001b[0m\u001b[0m\n\u001b[0m\u001b[1;32m   1868\u001b[0m         \u001b[0;32massert\u001b[0m \u001b[0mself\u001b[0m\u001b[0;34m.\u001b[0m\u001b[0mhandles\u001b[0m \u001b[0;32mis\u001b[0m \u001b[0;32mnot\u001b[0m \u001b[0;32mNone\u001b[0m\u001b[0;34m\u001b[0m\u001b[0;34m\u001b[0m\u001b[0m\n\u001b[1;32m   1869\u001b[0m         \u001b[0;32mfor\u001b[0m \u001b[0mkey\u001b[0m \u001b[0;32min\u001b[0m \u001b[0;34m(\u001b[0m\u001b[0;34m\"storage_options\"\u001b[0m\u001b[0;34m,\u001b[0m \u001b[0;34m\"encoding\"\u001b[0m\u001b[0;34m,\u001b[0m \u001b[0;34m\"memory_map\"\u001b[0m\u001b[0;34m,\u001b[0m \u001b[0;34m\"compression\"\u001b[0m\u001b[0;34m)\u001b[0m\u001b[0;34m:\u001b[0m\u001b[0;34m\u001b[0m\u001b[0;34m\u001b[0m\u001b[0m\n",
      "\u001b[0;32m/private/var/containers/Bundle/Application/6399D43E-5849-4FA1-A605-5EC067D50637/Carnets.app/Library/lib/python3.9/site-packages/pandas/io/parsers.py\u001b[0m in \u001b[0;36m_open_handles\u001b[0;34m(self, src, kwds)\u001b[0m\n\u001b[1;32m   1360\u001b[0m         \u001b[0mLet\u001b[0m \u001b[0mthe\u001b[0m \u001b[0mreaders\u001b[0m \u001b[0mopen\u001b[0m \u001b[0mIOHanldes\u001b[0m \u001b[0mafter\u001b[0m \u001b[0mthey\u001b[0m \u001b[0mare\u001b[0m \u001b[0mdone\u001b[0m \u001b[0;32mwith\u001b[0m \u001b[0mtheir\u001b[0m \u001b[0mpotential\u001b[0m \u001b[0mraises\u001b[0m\u001b[0;34m.\u001b[0m\u001b[0;34m\u001b[0m\u001b[0;34m\u001b[0m\u001b[0m\n\u001b[1;32m   1361\u001b[0m         \"\"\"\n\u001b[0;32m-> 1362\u001b[0;31m         self.handles = get_handle(\n\u001b[0m\u001b[1;32m   1363\u001b[0m             \u001b[0msrc\u001b[0m\u001b[0;34m,\u001b[0m\u001b[0;34m\u001b[0m\u001b[0;34m\u001b[0m\u001b[0m\n\u001b[1;32m   1364\u001b[0m             \u001b[0;34m\"r\"\u001b[0m\u001b[0;34m,\u001b[0m\u001b[0;34m\u001b[0m\u001b[0;34m\u001b[0m\u001b[0m\n",
      "\u001b[0;32m/private/var/containers/Bundle/Application/6399D43E-5849-4FA1-A605-5EC067D50637/Carnets.app/Library/lib/python3.9/site-packages/pandas/io/common.py\u001b[0m in \u001b[0;36mget_handle\u001b[0;34m(path_or_buf, mode, encoding, compression, memory_map, is_text, errors, storage_options)\u001b[0m\n\u001b[1;32m    640\u001b[0m                 \u001b[0merrors\u001b[0m \u001b[0;34m=\u001b[0m \u001b[0;34m\"replace\"\u001b[0m\u001b[0;34m\u001b[0m\u001b[0;34m\u001b[0m\u001b[0m\n\u001b[1;32m    641\u001b[0m             \u001b[0;31m# Encoding\u001b[0m\u001b[0;34m\u001b[0m\u001b[0;34m\u001b[0m\u001b[0;34m\u001b[0m\u001b[0m\n\u001b[0;32m--> 642\u001b[0;31m             handle = open(\n\u001b[0m\u001b[1;32m    643\u001b[0m                 \u001b[0mhandle\u001b[0m\u001b[0;34m,\u001b[0m\u001b[0;34m\u001b[0m\u001b[0;34m\u001b[0m\u001b[0m\n\u001b[1;32m    644\u001b[0m                 \u001b[0mioargs\u001b[0m\u001b[0;34m.\u001b[0m\u001b[0mmode\u001b[0m\u001b[0;34m,\u001b[0m\u001b[0;34m\u001b[0m\u001b[0;34m\u001b[0m\u001b[0m\n",
      "\u001b[0;31mFileNotFoundError\u001b[0m: [Errno 2] No such file or directory: 'D:\\\\student.csv'"
     ]
    }
   ],
   "source": [
    "# การใช้คำสั่ง check head and tail\n",
    "\n",
    "import pandas as pd\n",
    "\n",
    "student_gpa = pd.read_csv('D:\\student.csv')\n",
    "student_gpa.head()\n",
    "student_gpa.tail"
   ]
  },
  {
   "cell_type": "code",
   "execution_count": 6,
   "metadata": {
    "collapsed": true
   },
   "outputs": [
    {
     "ename": "AttributeError",
     "evalue": "module 'numpy' has no attribute 'read_csv'",
     "output_type": "error",
     "traceback": [
      "\u001b[0;31m---------------------------------------------------------------------------\u001b[0m",
      "\u001b[0;31mAttributeError\u001b[0m                            Traceback (most recent call last)",
      "\u001b[0;32m<ipython-input-6-df6ace4f74c2>\u001b[0m in \u001b[0;36m<module>\u001b[0;34m\u001b[0m\n\u001b[1;32m      1\u001b[0m \u001b[0;31m# กรณีที่ข้อมูลบางส่วนมีค่าว่าง และเราต้องการแสดงผลลัพท์เฉพาะผู้ที่มีข้อมูลเท่านั้น\u001b[0m\u001b[0;34m\u001b[0m\u001b[0;34m\u001b[0m\u001b[0;34m\u001b[0m\u001b[0m\n\u001b[1;32m      2\u001b[0m \u001b[0;34m\u001b[0m\u001b[0m\n\u001b[0;32m----> 3\u001b[0;31m \u001b[0mstudent_gpa\u001b[0m \u001b[0;34m=\u001b[0m \u001b[0mpd\u001b[0m\u001b[0;34m.\u001b[0m\u001b[0mread_csv\u001b[0m\u001b[0;34m(\u001b[0m\u001b[0;34m'D:\\student.csv'\u001b[0m\u001b[0;34m)\u001b[0m\u001b[0;34m\u001b[0m\u001b[0;34m\u001b[0m\u001b[0m\n\u001b[0m\u001b[1;32m      4\u001b[0m \u001b[0mprint\u001b[0m\u001b[0;34m(\u001b[0m\u001b[0mstudent\u001b[0m\u001b[0;34m[\u001b[0m\u001b[0mstudent\u001b[0m\u001b[0;34m[\u001b[0m\u001b[0;34m'Score'\u001b[0m\u001b[0;34m]\u001b[0m\u001b[0;34m.\u001b[0m\u001b[0mnotnull\u001b[0m\u001b[0;34m(\u001b[0m\u001b[0;34m)\u001b[0m\u001b[0;34m]\u001b[0m\u001b[0;34m)\u001b[0m\u001b[0;34m\u001b[0m\u001b[0;34m\u001b[0m\u001b[0m\n\u001b[1;32m      5\u001b[0m \u001b[0;34m\u001b[0m\u001b[0m\n",
      "\u001b[0;32m/private/var/containers/Bundle/Application/6399D43E-5849-4FA1-A605-5EC067D50637/Carnets.app/Library/lib/python3.9/site-packages/numpy-1.21.0.dev0+716.g786cc1dd5-py3.9-macosx-11.3-x86_64.egg/numpy/__init__.py\u001b[0m in \u001b[0;36m__getattr__\u001b[0;34m(attr)\u001b[0m\n\u001b[1;32m    306\u001b[0m                 \u001b[0;32mreturn\u001b[0m \u001b[0mTester\u001b[0m\u001b[0;34m\u001b[0m\u001b[0;34m\u001b[0m\u001b[0m\n\u001b[1;32m    307\u001b[0m \u001b[0;34m\u001b[0m\u001b[0m\n\u001b[0;32m--> 308\u001b[0;31m             raise AttributeError(\"module {!r} has no attribute \"\n\u001b[0m\u001b[1;32m    309\u001b[0m                                  \"{!r}\".format(__name__, attr))\n\u001b[1;32m    310\u001b[0m \u001b[0;34m\u001b[0m\u001b[0m\n",
      "\u001b[0;31mAttributeError\u001b[0m: module 'numpy' has no attribute 'read_csv'"
     ]
    }
   ],
   "source": [
    "# กรณีที่ข้อมูลบางส่วนมีค่าว่าง และเราต้องการแสดงผลลัพท์เฉพาะผู้ที่มีข้อมูลเท่านั้น\n",
    "\n",
    "student_gpa = pd.read_csv('D:\\student.csv')\n",
    "print(student[student['Score'].notnull()])\n",
    "\n"
   ]
  },
  {
   "cell_type": "code",
   "execution_count": 7,
   "metadata": {
    "collapsed": true
   },
   "outputs": [
    {
     "ename": "NameError",
     "evalue": "name 'student' is not defined",
     "output_type": "error",
     "traceback": [
      "\u001b[0;31m---------------------------------------------------------------------------\u001b[0m",
      "\u001b[0;31mNameError\u001b[0m                                 Traceback (most recent call last)",
      "\u001b[0;32m<ipython-input-7-8885135c28f9>\u001b[0m in \u001b[0;36m<module>\u001b[0;34m\u001b[0m\n\u001b[1;32m      1\u001b[0m \u001b[0;31m# คล้าย notnull สามารถระบุได้ว่าต้องการลบข้อมูลทั้งแถวหรือทั้งคอลัมน์\u001b[0m\u001b[0;34m\u001b[0m\u001b[0;34m\u001b[0m\u001b[0;34m\u001b[0m\u001b[0m\n\u001b[0;32m----> 2\u001b[0;31m \u001b[0mprint\u001b[0m\u001b[0;34m(\u001b[0m\u001b[0mstudent\u001b[0m\u001b[0;34m.\u001b[0m\u001b[0mdropna\u001b[0m\u001b[0;34m(\u001b[0m\u001b[0;34m)\u001b[0m\u001b[0;34m)\u001b[0m\u001b[0;34m\u001b[0m\u001b[0;34m\u001b[0m\u001b[0m\n\u001b[0m\u001b[1;32m      3\u001b[0m \u001b[0;34m\u001b[0m\u001b[0m\n",
      "\u001b[0;31mNameError\u001b[0m: name 'student' is not defined"
     ]
    }
   ],
   "source": [
    "# คล้าย notnull สามารถระบุได้ว่าต้องการลบข้อมูลทั้งแถวหรือทั้งคอลัมน์\n",
    "print(student.dropna())\n",
    "\n",
    "# ระบุได้ดังนี้ axis=0 ลบข้อมูลทั้งแถว(index) axis=1 ลบข้อมูลทั้งคอลัมน์(columns)\n",
    "print(student.dropna(axis=1)) \n",
    "# ตัวอย่างนี้จะไม่แสดงข้อมูลคอลัมน์ที่ไม่มีข้อมูลรวมถึงแถวอื่นด้วย\n"
   ]
  },
  {
   "cell_type": "code",
   "execution_count": null,
   "metadata": {},
   "outputs": [],
   "source": [
    "# ในกรณีสั่ง print ช่องว่างจะแสดงข้อมูลเป็น NaN not a number\n",
    "print(student)\n",
    "\n",
    "# จากตัวอย่างก่อนหน้า หากเราอยากแสดงข้อมูลที่ไม่เป็นค่า default เช่นให้แสดงเป็น 0\n",
    "student.fillna(0, inplace=True)\n",
    "print(student)"
   ]
  },
  {
   "cell_type": "code",
   "execution_count": null,
   "metadata": {},
   "outputs": [],
   "source": [
    "# การจัดการข้อมูลที่ซ้าซ้อนกัน\n",
    "# กรณีแรก มีรายการใดบ้างทีข้อมูลซ้ำซ้อนกันทั้งแถวตรวจสอบด้วยคำสั่ง duplicated()\n",
    "\n",
    "student = pd.read_csv('D:\\student.csv')\n",
    "student.duplicated()\n",
    "print(student)\n",
    "# ผลลัพท์ที่ได้จะเป็นค่า true"
   ]
  },
  {
   "cell_type": "code",
   "execution_count": null,
   "metadata": {},
   "outputs": [],
   "source": [
    "# กรณีที่สอง มีรายการใดบ้างที่ข้อมูลบางคอลัมน์ซ้ำซ้อนกัน\n",
    "student = pd.read_csv('D:\\student.csv')\n",
    "student.duplicated()\n",
    "print(student.duplicated(['ID']))\n",
    "# ผลลัพท์ที่ได้จะเป็นค่า true"
   ]
  },
  {
   "cell_type": "code",
   "execution_count": null,
   "metadata": {},
   "outputs": [],
   "source": [
    "# สำหรับกรณีแรกที่เราพบข้อมูลซ้ำซ้อน ทั้งแถวและต้องการลบทิ้ง\n",
    "# ใช้คำสั่ง dorp() พร้อมกำหนด Index ให้ข้อมูลใหม่ด้วยคำสั่ง Reset\n",
    "\n",
    "student = pd.read_csv('D:\\student.csv')\n",
    "student.drop_duplicated(['ID','Name','Score'], \n",
    "                       inplace=True)\n",
    "student.reset_index(drop=true, inplace=True)\n",
    "print(student)"
   ]
  },
  {
   "cell_type": "code",
   "execution_count": null,
   "metadata": {},
   "outputs": [],
   "source": [
    "# หากเราต้องการนับจำนวนแถวที่มีค่าซ้ำซ้อนกัน สามารถทำได้โดยใช้คำสั่ง len()\n",
    "\n",
    "student = pd.read_csv['D:\\student.csv']\n",
    "print(len(student[student.duplicated(['ID', 'Name', 'Score'], keep=False)]))\n",
    "# หากระบุ keep=Flase จะนับทั้งสองแถวที่ซ้ำกัน ถ้าไมระบุจะนับเฉพาะแถวที่ไปซ้ำกับแถวแรก"
   ]
  },
  {
   "cell_type": "code",
   "execution_count": 22,
   "metadata": {},
   "outputs": [
    {
     "name": "stdout",
     "output_type": "stream",
     "text": [
      "        name\n",
      "0   Superman\n",
      "1     Batman\n",
      "2  Spiderman\n"
     ]
    }
   ],
   "source": [
    "# test\n",
    "import numpy as np\n",
    "import pandas as pd\n",
    "\n",
    "df = pd.DataFrame({\"name\": ['Superman','Batman','Spiderman'], \n",
    "                   \"toy\": [np.nan,'Batmobile','Spierman toy'],\n",
    "                   \"born\": [pd.NaT,pd.Timestamp(\"1956-06-26\"),pd.NaT]})\n",
    "\n",
    "print(df.dropna(axis=1))"
   ]
  },
  {
   "cell_type": "code",
   "execution_count": null,
   "metadata": {},
   "outputs": [],
   "source": [
    "# การระบุเงื่อนไขสำหรับเลือกดูข้อมูล\n",
    "# เลือกทุกแถวในคอลัมน์\n",
    "student = pd.read_csv('D:\\student.csv')\n",
    "print(student[['Name','Scroe']])\n",
    "# ระบุชื่อคอลัมน์ที่ต้องการ"
   ]
  },
  {
   "cell_type": "code",
   "execution_count": null,
   "metadata": {},
   "outputs": [],
   "source": [
    "# การเลือกข้อมูลรายแถว\n",
    "# การเลือกแถวที่อยู่ในช่วงที่สนใจจากไฟล์ student.csv โดยระบุช่วงเลขประจำตัวนิสิตตั้งแต่ 531020 ถึง 531025\n",
    "\n",
    "student = pd.read_csv('D:\\student.csv',index_col=0) \n",
    "# index ต้องบอก columns ไหม\n",
    "\n",
    "print(student.loc['531020':'531025'])"
   ]
  },
  {
   "cell_type": "code",
   "execution_count": null,
   "metadata": {},
   "outputs": [],
   "source": [
    "# หากต้องการเลือกตั้งแต่แถวแรก\n",
    "student = pd.read_csv('D:\\student.csv',index_col=0)\n",
    "print(student.loc[:'531025'])"
   ]
  },
  {
   "cell_type": "code",
   "execution_count": 1,
   "metadata": {
    "collapsed": true
   },
   "outputs": [
    {
     "ename": "NameError",
     "evalue": "name 'pd' is not defined",
     "output_type": "error",
     "traceback": [
      "\u001b[0;31m---------------------------------------------------------------------------\u001b[0m",
      "\u001b[0;31mNameError\u001b[0m                                 Traceback (most recent call last)",
      "\u001b[0;32m<ipython-input-1-0e9701c82cf5>\u001b[0m in \u001b[0;36m<module>\u001b[0;34m\u001b[0m\n\u001b[1;32m      1\u001b[0m \u001b[0;31m# ในกรณีที่ต้องการเลือกข้อมูลเฉพาะแถวที่ตรงกับเงื่อนไข เช่นให้แสดงรายการของนิสิตที่ได้คะแนนมากว่า 50\u001b[0m\u001b[0;34m\u001b[0m\u001b[0;34m\u001b[0m\u001b[0;34m\u001b[0m\u001b[0m\n\u001b[1;32m      2\u001b[0m \u001b[0;34m\u001b[0m\u001b[0m\n\u001b[0;32m----> 3\u001b[0;31m \u001b[0mstudent\u001b[0m \u001b[0;34m=\u001b[0m \u001b[0mpd\u001b[0m\u001b[0;34m.\u001b[0m\u001b[0mread_csv\u001b[0m\u001b[0;34m(\u001b[0m\u001b[0;34m'D:\\student.csv'\u001b[0m\u001b[0;34m)\u001b[0m\u001b[0;34m\u001b[0m\u001b[0;34m\u001b[0m\u001b[0m\n\u001b[0m\u001b[1;32m      4\u001b[0m \u001b[0mstudent2\u001b[0m \u001b[0;34m=\u001b[0m \u001b[0mstudent\u001b[0m\u001b[0;34m[\u001b[0m\u001b[0mstudent\u001b[0m\u001b[0;34m[\u001b[0m\u001b[0;34m'score'\u001b[0m\u001b[0;34m]\u001b[0m\u001b[0;34m>\u001b[0m\u001b[0;36m50\u001b[0m\u001b[0;34m]\u001b[0m\u001b[0;34m\u001b[0m\u001b[0;34m\u001b[0m\u001b[0m\n\u001b[1;32m      5\u001b[0m \u001b[0mprint\u001b[0m\u001b[0;34m(\u001b[0m\u001b[0mstudent2\u001b[0m\u001b[0;34m)\u001b[0m\u001b[0;34m\u001b[0m\u001b[0;34m\u001b[0m\u001b[0m\n",
      "\u001b[0;31mNameError\u001b[0m: name 'pd' is not defined"
     ]
    }
   ],
   "source": [
    "# ในกรณีที่ต้องการเลือกข้อมูลเฉพาะแถวที่ตรงกับเงื่อนไข เช่นให้แสดงรายการของนิสิตที่ได้คะแนนมากว่า 50\n",
    "\n",
    "student = pd.read_csv('D:\\student.csv')\n",
    "student2 = student[student['score']>50]\n",
    "print(student2)"
   ]
  },
  {
   "cell_type": "code",
   "execution_count": 40,
   "metadata": {
    "collapsed": true
   },
   "outputs": [
    {
     "name": "stdout",
     "output_type": "stream",
     "text": [
      "<module 'pandas' from '/private/var/containers/Bundle/Application/6399D43E-5849-4FA1-A605-5EC067D50637/Carnets.app/Library/lib/python3.9/site-packages/pandas/__init__.py'>\n",
      "          A     D\n",
      "row_1  12.0  14.0\n",
      "row_2   4.0   3.0\n",
      "row_3   5.0   NaN\n",
      "row_4   NaN   2.0\n",
      "row_5   1.0   6.0\n"
     ]
    },
    {
     "data": {
      "text/html": [
       "<table border=\"1\" class=\"dataframe\">\n",
       "  <thead>\n",
       "    <tr style=\"text-align: right;\">\n",
       "      <th></th>\n",
       "      <th>A</th>\n",
       "      <th>D</th>\n",
       "    </tr>\n",
       "  </thead>\n",
       "  <tbody>\n",
       "    <tr>\n",
       "      <th>row_1</th>\n",
       "      <td>12.0</td>\n",
       "      <td>14.0</td>\n",
       "    </tr>\n",
       "    <tr>\n",
       "      <th>row_2</th>\n",
       "      <td>4.0</td>\n",
       "      <td>3.0</td>\n",
       "    </tr>\n",
       "    <tr>\n",
       "      <th>row_3</th>\n",
       "      <td>5.0</td>\n",
       "      <td>NaN</td>\n",
       "    </tr>\n",
       "    <tr>\n",
       "      <th>row_4</th>\n",
       "      <td>NaN</td>\n",
       "      <td>2.0</td>\n",
       "    </tr>\n",
       "    <tr>\n",
       "      <th>row_5</th>\n",
       "      <td>1.0</td>\n",
       "      <td>6.0</td>\n",
       "    </tr>\n",
       "  </tbody>\n",
       "</table>"
      ],
      "text/plain": [
       "<IPython.core.display.HTML object>"
      ]
     },
     "metadata": {},
     "output_type": "display_data"
    }
   ],
   "source": [
    "# test2\n",
    "import pandas as pd\n",
    "\n",
    "df = pd.DataFrame({\"A\":[12, 4, 5, None, 1], \n",
    "                   \"B\":[7, 2, 54, 3, None], \n",
    "                   \"C\":[20, 16, 11, 3, 8], \n",
    "                   \"D\":[14, 3, None, 2, 6]})\n",
    "\n",
    "index_ = ['row_1','row_2','row_3','row_4','row_5']\n",
    "df.index = index_\n",
    "\n",
    "print(pd)\n",
    "\n",
    "# จงเขียนคำสั่งเพื่อดึงข้อมูลในคอลัมน์ A และ คอลัมน์ D มาแสดง \n",
    "print(df[['A','D']])\n",
    "\n",
    "from IPython.display import display,HTML\n",
    "display(HTML(df[['A','D']].to_html()))\n"
   ]
  },
  {
   "cell_type": "code",
   "execution_count": 38,
   "metadata": {},
   "outputs": [
    {
     "data": {
      "text/plain": [
       "0    2.3\n",
       "1    9.0\n",
       "2   -7.0\n",
       "dtype: float64"
      ]
     },
     "execution_count": 38,
     "metadata": {},
     "output_type": "execute_result"
    }
   ],
   "source": [
    "# การแปลงชนิดข้อมูล\n",
    "# from string to float\n",
    "import pandas as pd\n",
    "s = pd.Series(['2.3','9',-7])\n",
    "pd.to_numeric(s)\n"
   ]
  },
  {
   "cell_type": "code",
   "execution_count": 39,
   "metadata": {},
   "outputs": [
    {
     "data": {
      "text/plain": [
       "0    bangkok\n",
       "1        2.3\n",
       "2          9\n",
       "3         -7\n",
       "dtype: object"
      ]
     },
     "execution_count": 39,
     "metadata": {},
     "output_type": "execute_result"
    }
   ],
   "source": [
    "# แปลงโดยไม่ให้เกิด error\n",
    "s = pd.Series(['bangkok','2.3','9',-7])\n",
    "pd.to_numeric(s, errors='ignore')"
   ]
  },
  {
   "cell_type": "code",
   "execution_count": 35,
   "metadata": {
    "scrolled": false
   },
   "outputs": [
    {
     "data": {
      "text/plain": [
       "0   2017-11-06\n",
       "1   2018-12-07\n",
       "dtype: datetime64[ns]"
      ]
     },
     "execution_count": 35,
     "metadata": {},
     "output_type": "execute_result"
    }
   ],
   "source": [
    "# การแปลงข้อมูลวันที่ให้อยู่ในรูป date\n",
    "import pandas as pd\n",
    "df = pd.DataFrame({'year':[2017, 2018], \n",
    "                   'month':[11, 12], \n",
    "                   'day':[6, 7]})\n",
    "pd.to_datetime(df)\n"
   ]
  },
  {
   "cell_type": "code",
   "execution_count": 42,
   "metadata": {},
   "outputs": [
    {
     "data": {
      "text/plain": [
       "0    mango\n",
       "1      2.0\n",
       "2        4\n",
       "3       -2\n",
       "dtype: object"
      ]
     },
     "execution_count": 42,
     "metadata": {},
     "output_type": "execute_result"
    }
   ],
   "source": [
    "# test3\n",
    "import pandas as pd\n",
    "s = pd.Series(['mango','2.0','4',-2])\n",
    "pd.to_numeric(s, errors='ignore')"
   ]
  },
  {
   "cell_type": "code",
   "execution_count": 44,
   "metadata": {},
   "outputs": [
    {
     "name": "stdout",
     "output_type": "stream",
     "text": [
      "          ภูมิลำเนา  quntity\n",
      "0          nothnoth     32.0\n",
      "1  eastnotheastnoth     54.0\n",
      "2      centercenter     34.0\n",
      "3      easteastnoth     42.0\n",
      "4               NaN      NaN\n"
     ]
    }
   ],
   "source": [
    "# calculation and management data\n",
    "# operator + - * / // % == != > <\n",
    "\n",
    "import pandas as pd\n",
    "\n",
    "female_student = pd.DataFrame([['noth',8], ['eastnoth',23],\n",
    "                               ['center',33], ['east',38]],columns=['ภูมิลำเนา','quntity'])\n",
    "male_student = pd.DataFrame([['noth',24], ['eastnoth',31],\n",
    "                             ['center', 1], ['eastnoth',4],\n",
    "                             ['bangkok',5]],columns=['ภูมิลำเนา','quntity'])\n",
    "print(female_student+male_student)\n",
    "# or print(female_student+male_student)"
   ]
  },
  {
   "cell_type": "code",
   "execution_count": 59,
   "metadata": {},
   "outputs": [
    {
     "data": {
      "text/html": [
       "<div>\n",
       "<style scoped>\n",
       "    .dataframe tbody tr th:only-of-type {\n",
       "        vertical-align: middle;\n",
       "    }\n",
       "\n",
       "    .dataframe tbody tr th {\n",
       "        vertical-align: top;\n",
       "    }\n",
       "\n",
       "    .dataframe thead th {\n",
       "        text-align: right;\n",
       "    }\n",
       "</style>\n",
       "<table border=\"1\" class=\"dataframe\">\n",
       "  <thead>\n",
       "    <tr style=\"text-align: right;\">\n",
       "      <th></th>\n",
       "      <th></th>\n",
       "      <th>angle</th>\n",
       "      <th>degrees</th>\n",
       "    </tr>\n",
       "  </thead>\n",
       "  <tbody>\n",
       "    <tr>\n",
       "      <th rowspan=\"3\" valign=\"top\">A</th>\n",
       "      <th>circle</th>\n",
       "      <td>NaN</td>\n",
       "      <td>1.0</td>\n",
       "    </tr>\n",
       "    <tr>\n",
       "      <th>triangle</th>\n",
       "      <td>1.0</td>\n",
       "      <td>1.0</td>\n",
       "    </tr>\n",
       "    <tr>\n",
       "      <th>rectangle</th>\n",
       "      <td>1.0</td>\n",
       "      <td>1.0</td>\n",
       "    </tr>\n",
       "    <tr>\n",
       "      <th rowspan=\"3\" valign=\"top\">B</th>\n",
       "      <th>square</th>\n",
       "      <td>0.0</td>\n",
       "      <td>0.0</td>\n",
       "    </tr>\n",
       "    <tr>\n",
       "      <th>pentagon</th>\n",
       "      <td>0.0</td>\n",
       "      <td>0.0</td>\n",
       "    </tr>\n",
       "    <tr>\n",
       "      <th>hexagon</th>\n",
       "      <td>0.0</td>\n",
       "      <td>0.0</td>\n",
       "    </tr>\n",
       "  </tbody>\n",
       "</table>\n",
       "</div>"
      ],
      "text/plain": [
       "             angle  degrees\n",
       "A circle       NaN      1.0\n",
       "  triangle     1.0      1.0\n",
       "  rectangle    1.0      1.0\n",
       "B square       0.0      0.0\n",
       "  pentagon     0.0      0.0\n",
       "  hexagon      0.0      0.0"
      ]
     },
     "execution_count": 59,
     "metadata": {},
     "output_type": "execute_result"
    }
   ],
   "source": [
    "# test4\n",
    "\n",
    "import pandas as pd\n",
    "df = pd.DataFrame({'angle':[0,3,4],\n",
    "                  'degrees':[360,180,360]},\n",
    "                 index=['circle','triangle','rectangle'])\n",
    "df_mutiindex = pd.DataFrame({'angle':[0,3,4,4,5,6],\n",
    "                             'degrees':[360,180,360,360,540,720]},\n",
    "                             index=[['A','A','A','B','B','B'], \n",
    "                                    ['circle','triangle','rectangle','square',\n",
    "                                    'pentagon','hexagon']])\n",
    "# df.div(1)\n",
    "# df_mutiindex.div(1)\n",
    "df.div(df_mutiindex, level=1, fill_value=0)"
   ]
  },
  {
   "cell_type": "code",
   "execution_count": 61,
   "metadata": {},
   "outputs": [
    {
     "data": {
      "text/html": [
       "<div>\n",
       "<style scoped>\n",
       "    .dataframe tbody tr th:only-of-type {\n",
       "        vertical-align: middle;\n",
       "    }\n",
       "\n",
       "    .dataframe tbody tr th {\n",
       "        vertical-align: top;\n",
       "    }\n",
       "\n",
       "    .dataframe thead th {\n",
       "        text-align: right;\n",
       "    }\n",
       "</style>\n",
       "<table border=\"1\" class=\"dataframe\">\n",
       "  <thead>\n",
       "    <tr style=\"text-align: right;\">\n",
       "      <th></th>\n",
       "      <th>จำนวน</th>\n",
       "    </tr>\n",
       "  </thead>\n",
       "  <tbody>\n",
       "    <tr>\n",
       "      <th>count</th>\n",
       "      <td>4.000000</td>\n",
       "    </tr>\n",
       "    <tr>\n",
       "      <th>mean</th>\n",
       "      <td>23.250000</td>\n",
       "    </tr>\n",
       "    <tr>\n",
       "      <th>std</th>\n",
       "      <td>12.257651</td>\n",
       "    </tr>\n",
       "    <tr>\n",
       "      <th>min</th>\n",
       "      <td>8.000000</td>\n",
       "    </tr>\n",
       "    <tr>\n",
       "      <th>25%</th>\n",
       "      <td>19.250000</td>\n",
       "    </tr>\n",
       "    <tr>\n",
       "      <th>50%</th>\n",
       "      <td>23.500000</td>\n",
       "    </tr>\n",
       "    <tr>\n",
       "      <th>75%</th>\n",
       "      <td>27.500000</td>\n",
       "    </tr>\n",
       "    <tr>\n",
       "      <th>max</th>\n",
       "      <td>38.000000</td>\n",
       "    </tr>\n",
       "  </tbody>\n",
       "</table>\n",
       "</div>"
      ],
      "text/plain": [
       "           จำนวน\n",
       "count   4.000000\n",
       "mean   23.250000\n",
       "std    12.257651\n",
       "min     8.000000\n",
       "25%    19.250000\n",
       "50%    23.500000\n",
       "75%    27.500000\n",
       "max    38.000000"
      ]
     },
     "execution_count": 61,
     "metadata": {},
     "output_type": "execute_result"
    }
   ],
   "source": [
    "# calculation statistic with data not group\n",
    "# กรณีที่เราต้องการดูค่าทางสถิติของแต่ละคอลัมน์\n",
    "import pandas as pd\n",
    "famale_student = pd.DataFrame([['noth',8],['notheast',23],['center,33'],['s',24]\n",
    "                              ,['bangkok',38]],columns=['ภูมิลำเนา','จำนวน'])\n",
    "\n",
    "famale_student.describe()"
   ]
  },
  {
   "cell_type": "code",
   "execution_count": 63,
   "metadata": {},
   "outputs": [
    {
     "data": {
      "text/html": [
       "<div>\n",
       "<style scoped>\n",
       "    .dataframe tbody tr th:only-of-type {\n",
       "        vertical-align: middle;\n",
       "    }\n",
       "\n",
       "    .dataframe tbody tr th {\n",
       "        vertical-align: top;\n",
       "    }\n",
       "\n",
       "    .dataframe thead th {\n",
       "        text-align: right;\n",
       "    }\n",
       "</style>\n",
       "<table border=\"1\" class=\"dataframe\">\n",
       "  <thead>\n",
       "    <tr style=\"text-align: right;\">\n",
       "      <th></th>\n",
       "      <th>count</th>\n",
       "      <th>mean</th>\n",
       "      <th>std</th>\n",
       "      <th>min</th>\n",
       "      <th>25%</th>\n",
       "      <th>50%</th>\n",
       "      <th>75%</th>\n",
       "      <th>max</th>\n",
       "    </tr>\n",
       "    <tr>\n",
       "      <th>เพศ</th>\n",
       "      <th></th>\n",
       "      <th></th>\n",
       "      <th></th>\n",
       "      <th></th>\n",
       "      <th></th>\n",
       "      <th></th>\n",
       "      <th></th>\n",
       "      <th></th>\n",
       "    </tr>\n",
       "  </thead>\n",
       "  <tbody>\n",
       "    <tr>\n",
       "      <th>F</th>\n",
       "      <td>5.0</td>\n",
       "      <td>25.2</td>\n",
       "      <td>11.476062</td>\n",
       "      <td>8.0</td>\n",
       "      <td>23.0</td>\n",
       "      <td>24.0</td>\n",
       "      <td>33.0</td>\n",
       "      <td>38.0</td>\n",
       "    </tr>\n",
       "    <tr>\n",
       "      <th>M</th>\n",
       "      <td>4.0</td>\n",
       "      <td>19.5</td>\n",
       "      <td>17.310883</td>\n",
       "      <td>3.0</td>\n",
       "      <td>9.0</td>\n",
       "      <td>16.0</td>\n",
       "      <td>26.5</td>\n",
       "      <td>43.0</td>\n",
       "    </tr>\n",
       "  </tbody>\n",
       "</table>\n",
       "</div>"
      ],
      "text/plain": [
       "     count  mean        std  min   25%   50%   75%   max\n",
       "เพศ                                                     \n",
       "F      5.0  25.2  11.476062  8.0  23.0  24.0  33.0  38.0\n",
       "M      4.0  19.5  17.310883  3.0   9.0  16.0  26.5  43.0"
      ]
     },
     "execution_count": 63,
     "metadata": {},
     "output_type": "execute_result"
    }
   ],
   "source": [
    "# กรณีที่เราต้องการทราบหรือตรวจดูความผิดปกติของข้อมูลในแต่ละกลุ่ม\n",
    "import pandas as pd\n",
    "student = pd.DataFrame([['F','n',8],['F','E',23],['F','C',33],['F','S',24],\n",
    "                        ['F','C',38],['M','n',11],['M','E',3],['M','C',43],\n",
    "                       ['M','c',21]],columns=['เพศ','ภูมิลำเนา','จำนวน'])\n",
    "student\n",
    "\n",
    "gender_distribution = student.groupby(['เพศ'])\n",
    "gender_distribution['จำนวน'].describe()"
   ]
  },
  {
   "cell_type": "code",
   "execution_count": 71,
   "metadata": {},
   "outputs": [
    {
     "data": {
      "text/html": [
       "<div>\n",
       "<style scoped>\n",
       "    .dataframe tbody tr th:only-of-type {\n",
       "        vertical-align: middle;\n",
       "    }\n",
       "\n",
       "    .dataframe tbody tr th {\n",
       "        vertical-align: top;\n",
       "    }\n",
       "\n",
       "    .dataframe thead th {\n",
       "        text-align: right;\n",
       "    }\n",
       "</style>\n",
       "<table border=\"1\" class=\"dataframe\">\n",
       "  <thead>\n",
       "    <tr style=\"text-align: right;\">\n",
       "      <th></th>\n",
       "      <th>B</th>\n",
       "      <th>C</th>\n",
       "    </tr>\n",
       "  </thead>\n",
       "  <tbody>\n",
       "    <tr>\n",
       "      <th>count</th>\n",
       "      <td>2.0</td>\n",
       "      <td>2.000000</td>\n",
       "    </tr>\n",
       "    <tr>\n",
       "      <th>mean</th>\n",
       "      <td>1.0</td>\n",
       "      <td>2.500000</td>\n",
       "    </tr>\n",
       "    <tr>\n",
       "      <th>std</th>\n",
       "      <td>0.0</td>\n",
       "      <td>0.707107</td>\n",
       "    </tr>\n",
       "    <tr>\n",
       "      <th>min</th>\n",
       "      <td>1.0</td>\n",
       "      <td>2.000000</td>\n",
       "    </tr>\n",
       "    <tr>\n",
       "      <th>25%</th>\n",
       "      <td>1.0</td>\n",
       "      <td>2.250000</td>\n",
       "    </tr>\n",
       "    <tr>\n",
       "      <th>50%</th>\n",
       "      <td>1.0</td>\n",
       "      <td>2.500000</td>\n",
       "    </tr>\n",
       "    <tr>\n",
       "      <th>75%</th>\n",
       "      <td>1.0</td>\n",
       "      <td>2.750000</td>\n",
       "    </tr>\n",
       "    <tr>\n",
       "      <th>max</th>\n",
       "      <td>1.0</td>\n",
       "      <td>3.000000</td>\n",
       "    </tr>\n",
       "  </tbody>\n",
       "</table>\n",
       "</div>"
      ],
      "text/plain": [
       "         B         C\n",
       "count  2.0  2.000000\n",
       "mean   1.0  2.500000\n",
       "std    0.0  0.707107\n",
       "min    1.0  2.000000\n",
       "25%    1.0  2.250000\n",
       "50%    1.0  2.500000\n",
       "75%    1.0  2.750000\n",
       "max    1.0  3.000000"
      ]
     },
     "execution_count": 71,
     "metadata": {},
     "output_type": "execute_result"
    }
   ],
   "source": [
    "# test5\n",
    "import pandas as pd\n",
    "df = pd.DataFrame({'A':['x','y'],\n",
    "                   'B':1,\n",
    "                   'C':[2,3]})\n",
    "\n",
    "df.describe()"
   ]
  },
  {
   "cell_type": "code",
   "execution_count": 73,
   "metadata": {},
   "outputs": [
    {
     "data": {
      "text/html": [
       "<div>\n",
       "<style scoped>\n",
       "    .dataframe tbody tr th:only-of-type {\n",
       "        vertical-align: middle;\n",
       "    }\n",
       "\n",
       "    .dataframe tbody tr th {\n",
       "        vertical-align: top;\n",
       "    }\n",
       "\n",
       "    .dataframe thead th {\n",
       "        text-align: right;\n",
       "    }\n",
       "</style>\n",
       "<table border=\"1\" class=\"dataframe\">\n",
       "  <thead>\n",
       "    <tr style=\"text-align: right;\">\n",
       "      <th></th>\n",
       "      <th>sum</th>\n",
       "    </tr>\n",
       "    <tr>\n",
       "      <th>ภูมิลำเนา</th>\n",
       "      <th></th>\n",
       "    </tr>\n",
       "  </thead>\n",
       "  <tbody>\n",
       "    <tr>\n",
       "      <th>C</th>\n",
       "      <td>114</td>\n",
       "    </tr>\n",
       "    <tr>\n",
       "      <th>E</th>\n",
       "      <td>26</td>\n",
       "    </tr>\n",
       "    <tr>\n",
       "      <th>S</th>\n",
       "      <td>24</td>\n",
       "    </tr>\n",
       "    <tr>\n",
       "      <th>c</th>\n",
       "      <td>21</td>\n",
       "    </tr>\n",
       "    <tr>\n",
       "      <th>n</th>\n",
       "      <td>19</td>\n",
       "    </tr>\n",
       "  </tbody>\n",
       "</table>\n",
       "</div>"
      ],
      "text/plain": [
       "           sum\n",
       "ภูมิลำเนา     \n",
       "C          114\n",
       "E           26\n",
       "S           24\n",
       "c           21\n",
       "n           19"
      ]
     },
     "execution_count": 73,
     "metadata": {},
     "output_type": "execute_result"
    }
   ],
   "source": [
    "# กรณีต้องจัดกลุ่มและหาผลรวมของแต่ละกลุ่มเพื่อเปรียบเทียบ\n",
    "import pandas as pd\n",
    "student = pd.DataFrame([['F','n',8],['F','E',23],['F','C',33],['F','S',24],\n",
    "                        ['F','C',38],['M','n',11],['M','E',3],['M','C',43],\n",
    "                       ['M','c',21]],columns=['เพศ','ภูมิลำเนา','จำนวน'])\n",
    "\n",
    "gender_distribution = student.groupby(['ภูมิลำเนา'])\n",
    "gender_distribution['จำนวน'].aggregate(['sum'])"
   ]
  },
  {
   "cell_type": "code",
   "execution_count": 76,
   "metadata": {},
   "outputs": [
    {
     "name": "stdout",
     "output_type": "stream",
     "text": [
      "0  เพศ           F\n",
      "   ภูมิลำเนา     n\n",
      "   จำนวน         8\n",
      "1  เพศ           F\n",
      "   ภูมิลำเนา     E\n",
      "   จำนวน        23\n",
      "2  เพศ           F\n",
      "   ภูมิลำเนา     C\n",
      "   จำนวน        33\n",
      "3  เพศ           F\n",
      "   ภูมิลำเนา     S\n",
      "   จำนวน        24\n",
      "4  เพศ           F\n",
      "   ภูมิลำเนา     C\n",
      "   จำนวน        38\n",
      "5  เพศ           M\n",
      "   ภูมิลำเนา     n\n",
      "   จำนวน        11\n",
      "6  เพศ           M\n",
      "   ภูมิลำเนา     E\n",
      "   จำนวน         3\n",
      "7  เพศ           M\n",
      "   ภูมิลำเนา     C\n",
      "   จำนวน        43\n",
      "8  เพศ           M\n",
      "   ภูมิลำเนา     c\n",
      "   จำนวน        21\n",
      "dtype: object\n"
     ]
    }
   ],
   "source": [
    "# กรณีที่ต้องการแปลงระหว่างแถวและคอลัมน์\n",
    "\n",
    "import pandas as pd\n",
    "student = pd.DataFrame([['F','n',8],['F','E',23],['F','C',33],['F','S',24],\n",
    "                        ['F','C',38],['M','n',11],['M','E',3],['M','C',43],\n",
    "                       ['M','c',21]],columns=['เพศ','ภูมิลำเนา','จำนวน'])\n",
    "student\n",
    "print(student.stack())"
   ]
  },
  {
   "cell_type": "code",
   "execution_count": 79,
   "metadata": {},
   "outputs": [
    {
     "name": "stdout",
     "output_type": "stream",
     "text": [
      "   หมายเลข     สายพันธุ์                  ชนิด\n",
      "0        1  นกแก้วมาคอร์              สัตว์ปีก\n",
      "1        2    กบบูลฟอรอค  สัตว์ครึ่งบกครึ่งน้ำ\n",
      "2        3   หนูแฮมเตอร์  สัตว์เลี้ยงลูกด้วยนม\n",
      "   หมายเลข     สายพันธุ์   ถิ่นที่อยู่  อายุขัย\n",
      "0        1  นกแก้วมาคอร์      เม็กซิโก       30\n",
      "1        2    กบบูลฟอรอค       อเมริกา        3\n",
      "2        3   หนูแฮมเตอร์  ตะวันออกกลาง        3\n",
      "   หมายเลข     สายพันธุ์                  ชนิด   ถิ่นที่อยู่  อายุขัย\n",
      "0        1  นกแก้วมาคอร์              สัตว์ปีก      เม็กซิโก       30\n",
      "1        2    กบบูลฟอรอค  สัตว์ครึ่งบกครึ่งน้ำ       อเมริกา        3\n",
      "2        3   หนูแฮมเตอร์  สัตว์เลี้ยงลูกด้วยนม  ตะวันออกกลาง        3\n"
     ]
    }
   ],
   "source": [
    "# กรณีต้องการเชื่อม DataFrame เข้าด้วยกันด้วยคำสั่ง merge\n",
    "import pandas as pd\n",
    "animal_type = pd.DataFrame(\n",
    "    [[1,'นกแก้วมาคอร์','สัตว์ปีก'],\n",
    "    [2,'กบบูลฟอรอค','สัตว์ครึ่งบกครึ่งน้ำ'],\n",
    "    [3,'หนูแฮมเตอร์','สัตว์เลี้ยงลูกด้วยนม']],columns=['หมายเลข','สายพันธุ์','ชนิด'])\n",
    "\n",
    "animal_age = pd.DataFrame(\n",
    "    [[1,'นกแก้วมาคอร์','เม็กซิโก',30],\n",
    "    [2,'กบบูลฟอรอค','อเมริกา',3],\n",
    "    [3,'หนูแฮมเตอร์','ตะวันออกกลาง',3]],columns=['หมายเลข','สายพันธุ์','ถิ่นที่อยู่','อายุขัย'])\n",
    "print(animal_type)\n",
    "print(animal_age)\n",
    "\n",
    "print(pd.merge(animal_type,animal_age))"
   ]
  },
  {
   "cell_type": "code",
   "execution_count": 80,
   "metadata": {},
   "outputs": [
    {
     "name": "stdout",
     "output_type": "stream",
     "text": [
      "None\n"
     ]
    }
   ],
   "source": [
    "# กรณีที่ต้องการบันทึกไฟล์ ยกตัวอย่างเป็น csv\n",
    "\n",
    "import pandas as pd\n",
    "animal_type = pd.DataFrame(\n",
    "    [[1,'นกแก้วมาคอร์','สัตว์ปีก'],\n",
    "    [2,'กบบูลฟอรอค','สัตว์ครึ่งบกครึ่งน้ำ'],\n",
    "    [3,'หนูแฮมเตอร์','สัตว์เลี้ยงลูกด้วยนม']],columns=['หมายเลข','สายพันธุ์','ชนิด'])\n",
    "\n",
    "export_csv = animal_type.to_csv(r'D:export_dataframe.csv')\n",
    "print(export_csv)"
   ]
  },
  {
   "cell_type": "code",
   "execution_count": null,
   "metadata": {},
   "outputs": [],
   "source": []
  }
 ],
 "metadata": {
  "kernelspec": {
   "display_name": "Python 3",
   "language": "python",
   "name": "python3"
  },
  "language_info": {
   "codemirror_mode": {
    "name": "ipython",
    "version": 3
   },
   "file_extension": ".py",
   "mimetype": "text/x-python",
   "name": "python",
   "nbconvert_exporter": "python",
   "pygments_lexer": "ipython3",
   "version": "3.9.2+"
  }
 },
 "nbformat": 4,
 "nbformat_minor": 2
}
