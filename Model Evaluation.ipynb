{
 "cells": [
  {
   "cell_type": "markdown",
   "id": "60c4a2bd",
   "metadata": {},
   "source": [
    "# Model evaluation"
   ]
  },
  {
   "cell_type": "code",
   "execution_count": 3,
   "id": "75b691a4",
   "metadata": {},
   "outputs": [],
   "source": [
    "import numpy as np\n",
    "from sklearn.model_selection import train_test_split\n",
    "from sklearn.datasets import load_breast_cancer\n",
    "\n",
    "dataset = load_breast_cancer()\n",
    "x, y = dataset.data, dataset.target"
   ]
  },
  {
   "cell_type": "code",
   "execution_count": 4,
   "id": "218e7f7f",
   "metadata": {},
   "outputs": [
    {
     "name": "stdout",
     "output_type": "stream",
     "text": [
      "malignant 212\n",
      "benign 357\n"
     ]
    }
   ],
   "source": [
    "# count classification\n",
    "for class_name, class_count in zip(dataset.target_names, np.bincount(dataset.target)):\n",
    "    print(class_name, class_count)"
   ]
  },
  {
   "cell_type": "markdown",
   "id": "017a4026",
   "metadata": {},
   "source": [
    "# Evaluation for binary classification"
   ]
  },
  {
   "cell_type": "code",
   "execution_count": 8,
   "id": "c1dcf1fb",
   "metadata": {},
   "outputs": [
    {
     "name": "stdout",
     "output_type": "stream",
     "text": [
      "12780 4290 426 143\n",
      "Number of test set 143\n",
      "Number of malignant samples 53\n",
      "Number of benign sanples 90\n"
     ]
    }
   ],
   "source": [
    "# without specifiying test_size, training set is set as 0.75\n",
    "x_train, x_test, y_train, y_test = train_test_split(x, y, random_state = 0)\n",
    "print(x_train.size, x_test.size, y_train.size, y_test.size)\n",
    "print('Number of test set', y_test.size)\n",
    "print('Number of malignant samples', sum(y_test==0))\n",
    "print('Number of benign sanples', sum(y_test==1))"
   ]
  },
  {
   "cell_type": "code",
   "execution_count": 25,
   "id": "08703cd4",
   "metadata": {},
   "outputs": [
    {
     "data": {
      "text/plain": [
       "0.965034965034965"
      ]
     },
     "execution_count": 25,
     "metadata": {},
     "output_type": "execute_result"
    }
   ],
   "source": [
    "# Accuracy of support vector machine classifier\n",
    "from sklearn.svm import SVC\n",
    "from sklearn.metrics import confusion_matrix\n",
    "svm = SVC(kernel='linear', C=2).fit(x_train,y_train)\n",
    "svm.score(x_test, y_test)"
   ]
  },
  {
   "cell_type": "code",
   "execution_count": 31,
   "id": "279899cb",
   "metadata": {},
   "outputs": [
    {
     "name": "stdout",
     "output_type": "stream",
     "text": [
      "SVM classifier\n",
      " [[52  1]\n",
      " [ 4 86]]\n",
      "tn= 52 fp= 1 fn= 4 tp= 86\n"
     ]
    }
   ],
   "source": [
    "# Support Vetor Machine\n",
    "from sklearn.svm import SVC\n",
    "from sklearn.metrics import confusion_matrix\n",
    "svm_predicted = svm.predict(x_test)\n",
    "confusion = confusion_matrix(y_test, svm_predicted)\n",
    "print('SVM classifier\\n', confusion)\n",
    "tn, fp, fn, tp = confusion_matrix(y_test, svm_predicted).ravel()\n",
    "print('tn=', tn, 'fp=', fp, 'fn=', fn, 'tp=', tp)"
   ]
  },
  {
   "cell_type": "code",
   "execution_count": 40,
   "id": "c73c55a7",
   "metadata": {},
   "outputs": [
    {
     "name": "stdout",
     "output_type": "stream",
     "text": [
      "Logistic Regrassion classifier (default setting)\n",
      " [[52  1]\n",
      " [ 4 86]]\n"
     ]
    }
   ],
   "source": [
    "# LogisticRegrassion\n",
    "from sklearn.linear_model import LogisticRegression\n",
    "lr = LogisticRegression(solver='liblinear').fit(x_train,y_train)\n",
    "lr_predicted = lr.predict(x_test)\n",
    "çonfusion = confusion_matrix(y_test, lr_predicted)\n",
    "print('Logistic Regrassion classifier (default setting)\\n', confusion)"
   ]
  },
  {
   "cell_type": "code",
   "execution_count": 49,
   "id": "fbfa932a",
   "metadata": {},
   "outputs": [
    {
     "name": "stdout",
     "output_type": "stream",
     "text": [
      "Decision tree classifier (max_depth = 2)\n",
      " [[48  5]\n",
      " [ 4 86]]\n"
     ]
    }
   ],
   "source": [
    "# Decision Tree\n",
    "from sklearn.tree import DecisionTreeClassifier\n",
    "dt = DecisionTreeClassifier(max_depth=2).fit(x_train,y_train)\n",
    "tree_predicted = dt.predict(x_test)\n",
    "confusion = confusion_matrix(y_test, tree_predicted)\n",
    "print('Decision tree classifier (max_depth = 2)\\n', confusion)"
   ]
  },
  {
   "cell_type": "code",
   "execution_count": 46,
   "id": "c24e36a2",
   "metadata": {},
   "outputs": [
    {
     "name": "stdout",
     "output_type": "stream",
     "text": [
      "Accuracy: 0.96\n",
      "Precision: 0.99\n",
      "Recall: 0.94\n",
      "F1: 0.97\n"
     ]
    }
   ],
   "source": [
    "from sklearn.metrics import accuracy_score, precision_score, recall_score, f1_score\n",
    "print('Accuracy: {:.2f}'.format(accuracy_score(y_test, lr_predicted)))\n",
    "print('Precision: {:.2f}'.format(precision_score(y_test, lr_predicted)))\n",
    "print('Recall: {:.2f}'.format(recall_score(y_test, lr_predicted)))\n",
    "print('F1: {:.2f}'.format(f1_score(y_test, lr_predicted)))"
   ]
  },
  {
   "cell_type": "code",
   "execution_count": 51,
   "id": "6ddb1fed",
   "metadata": {},
   "outputs": [
    {
     "name": "stdout",
     "output_type": "stream",
     "text": [
      "SVM\n",
      "               precision    recall  f1-score   support\n",
      "\n",
      "   malignant       0.93      0.98      0.95        53\n",
      "      benign       0.99      0.96      0.97        90\n",
      "\n",
      "    accuracy                           0.97       143\n",
      "   macro avg       0.96      0.97      0.96       143\n",
      "weighted avg       0.97      0.97      0.97       143\n",
      "\n",
      "LogisticRegrssion\n",
      "               precision    recall  f1-score   support\n",
      "\n",
      "   malignant       0.91      0.98      0.95        53\n",
      "      benign       0.99      0.94      0.97        90\n",
      "\n",
      "    accuracy                           0.96       143\n",
      "   macro avg       0.95      0.96      0.96       143\n",
      "weighted avg       0.96      0.96      0.96       143\n",
      "\n",
      "Decision tree\n",
      "               precision    recall  f1-score   support\n",
      "\n",
      "   malignant       0.92      0.91      0.91        53\n",
      "      benign       0.95      0.96      0.95        90\n",
      "\n",
      "    accuracy                           0.94       143\n",
      "   macro avg       0.93      0.93      0.93       143\n",
      "weighted avg       0.94      0.94      0.94       143\n",
      "\n"
     ]
    }
   ],
   "source": [
    "# combined report with all above metrics\n",
    "from sklearn.metrics import classification_report\n",
    "\n",
    "print('SVM\\n',\n",
    "      classification_report(y_test, svm_predicted, target_names = ['malignant', 'benign']))\n",
    "print('LogisticRegrssion\\n',\n",
    "      classification_report(y_test, lr_predicted, target_names = ['malignant', 'benign']))\n",
    "print('Decision tree\\n',\n",
    "      classification_report(y_test, tree_predicted, target_names = ['malignant', 'benign']))"
   ]
  },
  {
   "cell_type": "markdown",
   "id": "80e9ebc7",
   "metadata": {},
   "source": [
    "# Regression Metrics\n",
    "# correlation coefficient"
   ]
  },
  {
   "cell_type": "code",
   "execution_count": 53,
   "id": "506c2d86",
   "metadata": {},
   "outputs": [
    {
     "name": "stdout",
     "output_type": "stream",
     "text": [
      "Ridge model, coefficients [-6.46192162e-02  1.50846781e-02 -7.05119494e-02  2.74513967e+00\n",
      " -3.46545597e+00  3.06531611e+00 -1.03108368e-02 -2.87236857e-01\n",
      "  3.59549231e-03 -2.18161321e-03 -4.98177306e-01  6.83772236e-03\n",
      " -2.84364775e-01]\n",
      "Mean squared error (ridge model): 22.69\n",
      "Mean absolute error (ridge model): 3.48\n",
      "R2_score (ridge model): 0.71\n"
     ]
    }
   ],
   "source": [
    "from sklearn.linear_model import Ridge\n",
    "from sklearn.metrics import mean_squared_error, mean_absolute_error, r2_score\n",
    "from sklearn.datasets import load_boston\n",
    "\n",
    "boston = load_boston()\n",
    "\n",
    "x_train, x_test, y_train, y_test = train_test_split(boston.data, boston.target)\n",
    "\n",
    "ridge = Ridge(normalize=True).fit(x_train,y_train)\n",
    "y_predict = ridge.predict(x_test)\n",
    "\n",
    "print('Ridge model, coefficients', ridge.coef_)\n",
    "print('Mean squared error (ridge model): {:.2f}'.format(mean_squared_error(y_test, y_predict)))\n",
    "print('Mean absolute error (ridge model): {:.2f}'.format(mean_absolute_error(y_test, y_predict)))\n",
    "print('R2_score (ridge model): {:.2f}'.format(r2_score(y_test, y_predict)))"
   ]
  },
  {
   "cell_type": "code",
   "execution_count": null,
   "id": "074cb34b",
   "metadata": {},
   "outputs": [],
   "source": []
  }
 ],
 "metadata": {
  "kernelspec": {
   "display_name": "Python 3",
   "language": "python",
   "name": "python3"
  },
  "language_info": {
   "codemirror_mode": {
    "name": "ipython",
    "version": 3
   },
   "file_extension": ".py",
   "mimetype": "text/x-python",
   "name": "python",
   "nbconvert_exporter": "python",
   "pygments_lexer": "ipython3",
   "version": "3.8.10"
  }
 },
 "nbformat": 4,
 "nbformat_minor": 5
}
