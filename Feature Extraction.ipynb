{
 "cells": [
  {
   "cell_type": "markdown",
   "id": "6a4d1473",
   "metadata": {},
   "source": [
    "# Principal Component Analysis (PCA)"
   ]
  },
  {
   "cell_type": "markdown",
   "id": "08515eff",
   "metadata": {},
   "source": [
    "# UNsupervised"
   ]
  },
  {
   "cell_type": "code",
   "execution_count": null,
   "id": "c13e518c",
   "metadata": {},
   "outputs": [],
   "source": [
    "import numpy as np\n",
    "import pandas as pd\n",
    "import matplotlib.pyplot as plt\n",
    "%matplotlib inline"
   ]
  },
  {
   "cell_type": "code",
   "execution_count": 5,
   "id": "2f015d26",
   "metadata": {},
   "outputs": [],
   "source": [
    "url = 'https://archive.ics.uci.edu/ml/machine-learning-databases/wine/wine.data'\n",
    "df = pd.read_csv(url, header=None, sep=',')"
   ]
  },
  {
   "cell_type": "code",
   "execution_count": 6,
   "id": "7b831686",
   "metadata": {},
   "outputs": [
    {
     "data": {
      "text/plain": [
       "(178, 14)"
      ]
     },
     "execution_count": 6,
     "metadata": {},
     "output_type": "execute_result"
    }
   ],
   "source": [
    "df.shape"
   ]
  },
  {
   "cell_type": "code",
   "execution_count": 8,
   "id": "52fec086",
   "metadata": {
    "collapsed": true
   },
   "outputs": [
    {
     "data": {
      "text/html": [
       "<div>\n",
       "<style scoped>\n",
       "    .dataframe tbody tr th:only-of-type {\n",
       "        vertical-align: middle;\n",
       "    }\n",
       "\n",
       "    .dataframe tbody tr th {\n",
       "        vertical-align: top;\n",
       "    }\n",
       "\n",
       "    .dataframe thead th {\n",
       "        text-align: right;\n",
       "    }\n",
       "</style>\n",
       "<table border=\"1\" class=\"dataframe\">\n",
       "  <thead>\n",
       "    <tr style=\"text-align: right;\">\n",
       "      <th></th>\n",
       "      <th>0</th>\n",
       "      <th>1</th>\n",
       "      <th>2</th>\n",
       "      <th>3</th>\n",
       "      <th>4</th>\n",
       "      <th>5</th>\n",
       "      <th>6</th>\n",
       "      <th>7</th>\n",
       "      <th>8</th>\n",
       "      <th>9</th>\n",
       "      <th>10</th>\n",
       "      <th>11</th>\n",
       "      <th>12</th>\n",
       "      <th>13</th>\n",
       "    </tr>\n",
       "  </thead>\n",
       "  <tbody>\n",
       "    <tr>\n",
       "      <th>0</th>\n",
       "      <td>1</td>\n",
       "      <td>14.23</td>\n",
       "      <td>1.71</td>\n",
       "      <td>2.43</td>\n",
       "      <td>15.6</td>\n",
       "      <td>127</td>\n",
       "      <td>2.80</td>\n",
       "      <td>3.06</td>\n",
       "      <td>0.28</td>\n",
       "      <td>2.29</td>\n",
       "      <td>5.64</td>\n",
       "      <td>1.04</td>\n",
       "      <td>3.92</td>\n",
       "      <td>1065</td>\n",
       "    </tr>\n",
       "    <tr>\n",
       "      <th>1</th>\n",
       "      <td>1</td>\n",
       "      <td>13.20</td>\n",
       "      <td>1.78</td>\n",
       "      <td>2.14</td>\n",
       "      <td>11.2</td>\n",
       "      <td>100</td>\n",
       "      <td>2.65</td>\n",
       "      <td>2.76</td>\n",
       "      <td>0.26</td>\n",
       "      <td>1.28</td>\n",
       "      <td>4.38</td>\n",
       "      <td>1.05</td>\n",
       "      <td>3.40</td>\n",
       "      <td>1050</td>\n",
       "    </tr>\n",
       "    <tr>\n",
       "      <th>2</th>\n",
       "      <td>1</td>\n",
       "      <td>13.16</td>\n",
       "      <td>2.36</td>\n",
       "      <td>2.67</td>\n",
       "      <td>18.6</td>\n",
       "      <td>101</td>\n",
       "      <td>2.80</td>\n",
       "      <td>3.24</td>\n",
       "      <td>0.30</td>\n",
       "      <td>2.81</td>\n",
       "      <td>5.68</td>\n",
       "      <td>1.03</td>\n",
       "      <td>3.17</td>\n",
       "      <td>1185</td>\n",
       "    </tr>\n",
       "    <tr>\n",
       "      <th>3</th>\n",
       "      <td>1</td>\n",
       "      <td>14.37</td>\n",
       "      <td>1.95</td>\n",
       "      <td>2.50</td>\n",
       "      <td>16.8</td>\n",
       "      <td>113</td>\n",
       "      <td>3.85</td>\n",
       "      <td>3.49</td>\n",
       "      <td>0.24</td>\n",
       "      <td>2.18</td>\n",
       "      <td>7.80</td>\n",
       "      <td>0.86</td>\n",
       "      <td>3.45</td>\n",
       "      <td>1480</td>\n",
       "    </tr>\n",
       "    <tr>\n",
       "      <th>4</th>\n",
       "      <td>1</td>\n",
       "      <td>13.24</td>\n",
       "      <td>2.59</td>\n",
       "      <td>2.87</td>\n",
       "      <td>21.0</td>\n",
       "      <td>118</td>\n",
       "      <td>2.80</td>\n",
       "      <td>2.69</td>\n",
       "      <td>0.39</td>\n",
       "      <td>1.82</td>\n",
       "      <td>4.32</td>\n",
       "      <td>1.04</td>\n",
       "      <td>2.93</td>\n",
       "      <td>735</td>\n",
       "    </tr>\n",
       "  </tbody>\n",
       "</table>\n",
       "</div>"
      ],
      "text/plain": [
       "   0      1     2     3     4    5     6     7     8     9     10    11    12  \\\n",
       "0   1  14.23  1.71  2.43  15.6  127  2.80  3.06  0.28  2.29  5.64  1.04  3.92   \n",
       "1   1  13.20  1.78  2.14  11.2  100  2.65  2.76  0.26  1.28  4.38  1.05  3.40   \n",
       "2   1  13.16  2.36  2.67  18.6  101  2.80  3.24  0.30  2.81  5.68  1.03  3.17   \n",
       "3   1  14.37  1.95  2.50  16.8  113  3.85  3.49  0.24  2.18  7.80  0.86  3.45   \n",
       "4   1  13.24  2.59  2.87  21.0  118  2.80  2.69  0.39  1.82  4.32  1.04  2.93   \n",
       "\n",
       "     13  \n",
       "0  1065  \n",
       "1  1050  \n",
       "2  1185  \n",
       "3  1480  \n",
       "4   735  "
      ]
     },
     "execution_count": 8,
     "metadata": {},
     "output_type": "execute_result"
    }
   ],
   "source": [
    "df.head()"
   ]
  },
  {
   "cell_type": "code",
   "execution_count": 10,
   "id": "226b4f6c",
   "metadata": {
    "collapsed": true
   },
   "outputs": [
    {
     "data": {
      "text/plain": [
       "0       int64\n",
       "1     float64\n",
       "2     float64\n",
       "3     float64\n",
       "4     float64\n",
       "5       int64\n",
       "6     float64\n",
       "7     float64\n",
       "8     float64\n",
       "9     float64\n",
       "10    float64\n",
       "11    float64\n",
       "12    float64\n",
       "13      int64\n",
       "dtype: object"
      ]
     },
     "execution_count": 10,
     "metadata": {},
     "output_type": "execute_result"
    }
   ],
   "source": [
    "df.dtypes"
   ]
  },
  {
   "cell_type": "code",
   "execution_count": 23,
   "id": "537d9a78",
   "metadata": {},
   "outputs": [],
   "source": [
    "x = df.iloc[:,1:].values\n",
    "y = df.iloc[:,0].values"
   ]
  },
  {
   "cell_type": "code",
   "execution_count": 26,
   "id": "a4a05984",
   "metadata": {},
   "outputs": [
    {
     "data": {
      "text/plain": [
       "{1: 59, 2: 71, 3: 48}"
      ]
     },
     "execution_count": 26,
     "metadata": {},
     "output_type": "execute_result"
    }
   ],
   "source": [
    "# investigate the distrubution of class labels\n",
    "unique, counts = np.unique(y, return_counts=True)  #panda use valuecounts\n",
    "dict(zip(unique, counts))"
   ]
  },
  {
   "cell_type": "code",
   "execution_count": 28,
   "id": "e0089b14",
   "metadata": {},
   "outputs": [],
   "source": [
    "from sklearn.model_selection import train_test_split\n",
    "x_train, x_test, y_train, y_test = train_test_split(x, y, test_size=0.3, \n",
    "                                                   stratify=y, random_state=0)"
   ]
  },
  {
   "cell_type": "code",
   "execution_count": 30,
   "id": "abf964c1",
   "metadata": {},
   "outputs": [],
   "source": [
    "from sklearn.preprocessing import StandardScaler\n",
    "# standardize the features\n",
    "sc = StandardScaler()\n",
    "x_train_std = sc.fit_transform(x_train)\n",
    "x_test_std = sc.transform(x_test)"
   ]
  },
  {
   "cell_type": "code",
   "execution_count": 32,
   "id": "cf7517bb",
   "metadata": {},
   "outputs": [],
   "source": [
    "# transform the original data into a new feature space using PCA\n",
    "from sklearn.decomposition import PCA\n",
    "pca = PCA(n_components=None)"
   ]
  },
  {
   "cell_type": "code",
   "execution_count": 33,
   "id": "afedec6c",
   "metadata": {},
   "outputs": [],
   "source": [
    "# transform data in the training set\n",
    "x_train_pca = pca.fit_transform(x_train_std)"
   ]
  },
  {
   "cell_type": "code",
   "execution_count": 34,
   "id": "fc7418d4",
   "metadata": {},
   "outputs": [
    {
     "data": {
      "text/plain": [
       "array([4.84274532, 2.41602459, 1.54845825, 0.96120438, 0.84166161,\n",
       "       0.6620634 , 0.51828472, 0.34650377, 0.3131368 , 0.21357215,\n",
       "       0.1808613 , 0.15362835, 0.10754642])"
      ]
     },
     "execution_count": 34,
     "metadata": {},
     "output_type": "execute_result"
    }
   ],
   "source": [
    "# show the eigenvalues of each principal componente in the training set\n",
    "# eigenvalues\n",
    "pca.explained_variance_"
   ]
  },
  {
   "cell_type": "code",
   "execution_count": 35,
   "id": "a1c39279",
   "metadata": {},
   "outputs": [
    {
     "data": {
      "text/plain": [
       "array([0.36951469, 0.18434927, 0.11815159, 0.07334252, 0.06422108,\n",
       "       0.05051724, 0.03954654, 0.02643918, 0.02389319, 0.01629614,\n",
       "       0.01380021, 0.01172226, 0.00820609])"
      ]
     },
     "execution_count": 35,
     "metadata": {},
     "output_type": "execute_result"
    }
   ],
   "source": [
    "# display the explaiend ratio of each principal component\n",
    "# explaied variance ratio = eigenvalue/total eigenvalues for each component\n",
    "pca.explained_variance_ratio_"
   ]
  },
  {
   "cell_type": "code",
   "execution_count": 37,
   "id": "e329a0a6",
   "metadata": {
    "collapsed": true
   },
   "outputs": [
    {
     "data": {
      "text/plain": [
       "array([[-1.37242175e-01,  2.47243265e-01, -2.54515927e-02,\n",
       "         2.06945084e-01, -1.54365821e-01, -3.93769523e-01,\n",
       "        -4.17351064e-01,  3.05728961e-01, -3.06683469e-01,\n",
       "         7.55406578e-02, -3.26132628e-01, -3.68610222e-01,\n",
       "        -2.96696514e-01],\n",
       "       [ 5.03034778e-01,  1.64871190e-01,  2.44564761e-01,\n",
       "        -1.13529045e-01,  2.89745182e-01,  5.08010391e-02,\n",
       "        -2.28733792e-02,  9.04888470e-02,  8.35232677e-03,\n",
       "         5.49775805e-01, -2.07164328e-01, -2.49025357e-01,\n",
       "         3.80229423e-01],\n",
       "       [-1.37748734e-01,  9.61503863e-02,  6.77775667e-01,\n",
       "         6.25040550e-01,  1.96135481e-01,  1.40310572e-01,\n",
       "         1.17053859e-01,  1.31217777e-01,  3.04309008e-02,\n",
       "        -7.99299713e-02,  5.30591506e-02,  1.32391030e-01,\n",
       "        -7.06502178e-02],\n",
       "       [-3.29610003e-03,  5.62646692e-01, -1.08977111e-01,\n",
       "         3.38187002e-02, -3.67511070e-01,  2.40245127e-01,\n",
       "         1.87053299e-01, -2.29262234e-02,  4.96262330e-01,\n",
       "         1.06482939e-01, -3.69053747e-01,  1.42016088e-01,\n",
       "        -1.67682173e-01],\n",
       "       [-2.90625226e-01,  8.95378697e-02, -1.60834991e-01,\n",
       "         5.15873402e-02,  6.76487073e-01, -1.18511144e-01,\n",
       "        -1.07100349e-01, -5.07581610e-01,  2.01634619e-01,\n",
       "         5.73607091e-03, -2.76914216e-01, -6.66275572e-02,\n",
       "        -1.28029045e-01],\n",
       "       [-2.99096847e-01, -6.27036396e-01, -3.89128239e-04,\n",
       "         4.05836452e-02, -6.57772614e-02,  5.89776247e-02,\n",
       "         3.01103180e-02,  2.71728086e-01,  4.39997519e-01,\n",
       "         4.11743459e-01, -1.41673377e-01, -1.75842384e-01,\n",
       "        -1.38018388e-01],\n",
       "       [-7.90529293e-02,  2.74002014e-01, -1.32328045e-01,\n",
       "        -2.23999097e-01,  4.05268966e-01,  3.47419412e-02,\n",
       "        -4.17835724e-02,  6.31145686e-01,  3.23122775e-01,\n",
       "        -2.69082623e-01,  3.02640661e-01, -1.30540143e-01,\n",
       "        -8.11335043e-04],\n",
       "       [ 3.68176414e-01,  1.25775752e-02, -1.77578177e-01,\n",
       "         4.40592110e-01, -1.16617503e-01, -3.50192127e-01,\n",
       "        -2.18718183e-01, -1.97129425e-01,  4.33055871e-01,\n",
       "         6.68411823e-02,  4.59762295e-01, -1.10827548e-01,\n",
       "        -5.60817288e-03],\n",
       "       [-3.98377017e-01,  1.10458230e-01,  3.82496856e-01,\n",
       "        -2.43373853e-01, -2.58982359e-01, -3.42312860e-01,\n",
       "        -3.61231642e-02, -1.71436883e-01,  2.44370210e-01,\n",
       "        -1.55514919e-01,  2.11961247e-02, -2.38089559e-01,\n",
       "         5.17278463e-01],\n",
       "       [-3.74638877e-01,  1.37405597e-01, -4.61583035e-01,\n",
       "         4.18953989e-01, -1.00470630e-02,  2.21254241e-01,\n",
       "         4.17513600e-02,  8.87569452e-02, -1.99921861e-01,\n",
       "         2.21668868e-01,  9.84694573e-02, -1.91205783e-02,\n",
       "         5.42532072e-01],\n",
       "       [-2.62834263e-01,  2.66769211e-01,  1.15542548e-01,\n",
       "        -1.99483410e-01, -2.89018810e-02,  6.63868598e-02,\n",
       "         2.13349079e-01, -1.86391279e-01, -1.68082985e-01,\n",
       "         4.66369031e-01,  5.32483880e-01, -2.37835283e-01,\n",
       "        -3.67763359e-01],\n",
       "       [ 1.27834515e-01, -8.06401578e-02, -1.67924873e-02,\n",
       "         1.10845657e-01, -7.93879562e-02,  4.91459313e-01,\n",
       "         5.03074004e-02, -1.75328030e-01,  3.67595797e-03,\n",
       "        -3.59756535e-01, -4.04669797e-02, -7.42229543e-01,\n",
       "        -3.87395209e-02],\n",
       "       [ 9.44869777e-02, -2.63652406e-02, -1.42747511e-01,\n",
       "         1.30485780e-01,  6.76080782e-02, -4.59917661e-01,\n",
       "         8.14583947e-01,  9.57480885e-02, -6.72468934e-02,\n",
       "        -8.73336218e-02, -1.29061125e-01, -1.87646268e-01,\n",
       "        -1.21112574e-02]])"
      ]
     },
     "execution_count": 37,
     "metadata": {},
     "output_type": "execute_result"
    }
   ],
   "source": [
    "# There are 13 principal components constructed from 13 original features\n",
    "pca.components_"
   ]
  },
  {
   "cell_type": "raw",
   "id": "e62e1e56",
   "metadata": {},
   "source": [
    "# For a demonstration purpose"
   ]
  },
  {
   "cell_type": "code",
   "execution_count": 38,
   "id": "a767d2bb",
   "metadata": {},
   "outputs": [],
   "source": [
    "# two principal components will be used\n",
    "from sklearn.decomposition import PCA\n",
    "pca = PCA(n_components=2)"
   ]
  },
  {
   "cell_type": "code",
   "execution_count": 39,
   "id": "b30866a9",
   "metadata": {},
   "outputs": [],
   "source": [
    "# fit and transform data\n",
    "x_train_pca = pca.fit_transform(x_train_std)\n",
    "x_test_pca = pca.transform(x_test_std)"
   ]
  },
  {
   "cell_type": "code",
   "execution_count": 48,
   "id": "59e6d5c2",
   "metadata": {},
   "outputs": [],
   "source": [
    "# construct a logistic regression model\n",
    "from sklearn.linear_model import LogisticRegression\n",
    "lr = LogisticRegression(multi_class='auto', solver='liblinear')"
   ]
  },
  {
   "cell_type": "code",
   "execution_count": 49,
   "id": "a441b48e",
   "metadata": {},
   "outputs": [
    {
     "data": {
      "text/plain": [
       "LogisticRegression(C=1.0, class_weight=None, dual=False, fit_intercept=True,\n",
       "                   intercept_scaling=1, l1_ratio=None, max_iter=100,\n",
       "                   multi_class='auto', n_jobs=None, penalty='l2',\n",
       "                   random_state=None, solver='liblinear', tol=0.0001, verbose=0,\n",
       "                   warm_start=False)"
      ]
     },
     "execution_count": 49,
     "metadata": {},
     "output_type": "execute_result"
    }
   ],
   "source": [
    "# fit the logistic regrssion model to the training data\n",
    "lr.fit(x_train_pca, y_train)"
   ]
  },
  {
   "cell_type": "code",
   "execution_count": 50,
   "id": "e3f70e8d",
   "metadata": {},
   "outputs": [],
   "source": [
    "predictions = lr.predict(x_test_pca)"
   ]
  },
  {
   "cell_type": "code",
   "execution_count": 53,
   "id": "69c49b39",
   "metadata": {},
   "outputs": [
    {
     "data": {
      "text/plain": [
       "array([[15,  3,  0],\n",
       "       [ 1, 20,  0],\n",
       "       [ 0,  0, 15]], dtype=int64)"
      ]
     },
     "execution_count": 53,
     "metadata": {},
     "output_type": "execute_result"
    }
   ],
   "source": [
    "from sklearn.metrics import confusion_matrix\n",
    "confusion_matrix(y_test, predictions, labels=[1, 2, 3])"
   ]
  },
  {
   "cell_type": "code",
   "execution_count": 56,
   "id": "2e89fb46",
   "metadata": {},
   "outputs": [
    {
     "name": "stdout",
     "output_type": "stream",
     "text": [
      "performance = \n",
      "- accuracy = 0.9259259259259259\n",
      "- precision = [0.9375     0.86956522 1.        ]\n",
      "- recall = [0.83333333 0.95238095 1.        ]\n",
      "- f1 = [0.88235294 0.90909091 1.        ]\n"
     ]
    }
   ],
   "source": [
    "from sklearn.metrics import accuracy_score, precision_score, recall_score, f1_score\n",
    "accuracy = accuracy_score(y_test, predictions)\n",
    "precision = precision_score(y_test, predictions, average=None)\n",
    "recall = recall_score(y_test, predictions, average=None)\n",
    "f1 = f1_score(y_test, predictions, average=None)\n",
    "\n",
    "print('performance = ')\n",
    "print('- accuracy = ' + str(accuracy))\n",
    "print('- precision = ' + str(precision))\n",
    "print('- recall = ' + str(recall))\n",
    "print('- f1 = ' + str(f1))"
   ]
  },
  {
   "cell_type": "code",
   "execution_count": 57,
   "id": "66df4a15",
   "metadata": {},
   "outputs": [
    {
     "name": "stdout",
     "output_type": "stream",
     "text": [
      "performance = \n",
      "- precision = 0.9259259259259259\n",
      "- recall = 0.9259259259259259\n",
      "- f1 = 0.9259259259259259\n"
     ]
    }
   ],
   "source": [
    "# micro-average precision, recall and f1\n",
    "precision = precision_score(y_test, predictions, average='micro')\n",
    "recall = recall_score(y_test, predictions, average='micro')\n",
    "f1 = f1_score(y_test, predictions, average='micro')\n",
    "\n",
    "print('performance = ')\n",
    "print('- precision = ' + str(precision))\n",
    "print('- recall = ' + str(recall))\n",
    "print('- f1 = ' + str(f1))"
   ]
  },
  {
   "cell_type": "code",
   "execution_count": 58,
   "id": "72f9d2c0",
   "metadata": {},
   "outputs": [
    {
     "name": "stdout",
     "output_type": "stream",
     "text": [
      "performance = \n",
      "- precision = 0.9356884057971014\n",
      "- recall = 0.9285714285714285\n",
      "- f1 = 0.9304812834224597\n"
     ]
    }
   ],
   "source": [
    "# macro-average precision, recall and f1\n",
    "precision = precision_score(y_test, predictions, average='macro')\n",
    "recall = recall_score(y_test, predictions, average='macro')\n",
    "f1 = f1_score(y_test, predictions, average='macro')\n",
    "\n",
    "print('performance = ')\n",
    "print('- precision = ' + str(precision))\n",
    "print('- recall = ' + str(recall))\n",
    "print('- f1 = ' + str(f1))"
   ]
  },
  {
   "cell_type": "code",
   "execution_count": 59,
   "id": "a3a8eb47",
   "metadata": {},
   "outputs": [],
   "source": [
    "# test 10 feature\n",
    "# ten principal components will be used\n",
    "from sklearn.decomposition import PCA\n",
    "pca = PCA(n_components=10)"
   ]
  },
  {
   "cell_type": "code",
   "execution_count": 60,
   "id": "9ff4f1c8",
   "metadata": {},
   "outputs": [],
   "source": [
    "# fit and transform data\n",
    "x_train_pca = pca.fit_transform(x_train_std)\n",
    "x_test_pca = pca.transform(x_test_std)"
   ]
  },
  {
   "cell_type": "code",
   "execution_count": 61,
   "id": "f0789727",
   "metadata": {},
   "outputs": [],
   "source": [
    "# construct a logistic regression model\n",
    "from sklearn.linear_model import LogisticRegression\n",
    "lr = LogisticRegression(multi_class='auto', solver='liblinear')"
   ]
  },
  {
   "cell_type": "code",
   "execution_count": 62,
   "id": "df7abcf4",
   "metadata": {},
   "outputs": [
    {
     "data": {
      "text/plain": [
       "LogisticRegression(C=1.0, class_weight=None, dual=False, fit_intercept=True,\n",
       "                   intercept_scaling=1, l1_ratio=None, max_iter=100,\n",
       "                   multi_class='auto', n_jobs=None, penalty='l2',\n",
       "                   random_state=None, solver='liblinear', tol=0.0001, verbose=0,\n",
       "                   warm_start=False)"
      ]
     },
     "execution_count": 62,
     "metadata": {},
     "output_type": "execute_result"
    }
   ],
   "source": [
    "# fit the logistic regrssion model to the training data\n",
    "lr.fit(x_train_pca, y_train)"
   ]
  },
  {
   "cell_type": "code",
   "execution_count": 63,
   "id": "efc31bf7",
   "metadata": {},
   "outputs": [],
   "source": [
    "predictions = lr.predict(x_test_pca)"
   ]
  },
  {
   "cell_type": "code",
   "execution_count": 64,
   "id": "a5c8c0c1",
   "metadata": {},
   "outputs": [
    {
     "data": {
      "text/plain": [
       "array([[18,  0,  0],\n",
       "       [ 0, 21,  0],\n",
       "       [ 0,  0, 15]], dtype=int64)"
      ]
     },
     "execution_count": 64,
     "metadata": {},
     "output_type": "execute_result"
    }
   ],
   "source": [
    "from sklearn.metrics import confusion_matrix\n",
    "confusion_matrix(y_test, predictions, labels=[1, 2, 3])"
   ]
  },
  {
   "cell_type": "code",
   "execution_count": 65,
   "id": "3d4f960e",
   "metadata": {},
   "outputs": [
    {
     "name": "stdout",
     "output_type": "stream",
     "text": [
      "performance = \n",
      "- accuracy = 1.0\n",
      "- precision = [1. 1. 1.]\n",
      "- recall = [1. 1. 1.]\n",
      "- f1 = [1. 1. 1.]\n"
     ]
    }
   ],
   "source": [
    "from sklearn.metrics import accuracy_score, precision_score, recall_score, f1_score\n",
    "accuracy = accuracy_score(y_test, predictions)\n",
    "precision = precision_score(y_test, predictions, average=None)\n",
    "recall = recall_score(y_test, predictions, average=None)\n",
    "f1 = f1_score(y_test, predictions, average=None)\n",
    "\n",
    "print('performance = ')\n",
    "print('- accuracy = ' + str(accuracy))\n",
    "print('- precision = ' + str(precision))\n",
    "print('- recall = ' + str(recall))\n",
    "print('- f1 = ' + str(f1))"
   ]
  },
  {
   "cell_type": "code",
   "execution_count": 66,
   "id": "6e31a415",
   "metadata": {},
   "outputs": [
    {
     "name": "stdout",
     "output_type": "stream",
     "text": [
      "performance = \n",
      "- precision = 1.0\n",
      "- recall = 1.0\n",
      "- f1 = 1.0\n"
     ]
    }
   ],
   "source": [
    "# micro-average precision, recall and f1\n",
    "precision = precision_score(y_test, predictions, average='micro')\n",
    "recall = recall_score(y_test, predictions, average='micro')\n",
    "f1 = f1_score(y_test, predictions, average='micro')\n",
    "\n",
    "print('performance = ')\n",
    "print('- precision = ' + str(precision))\n",
    "print('- recall = ' + str(recall))\n",
    "print('- f1 = ' + str(f1))"
   ]
  },
  {
   "cell_type": "code",
   "execution_count": 67,
   "id": "a1155625",
   "metadata": {},
   "outputs": [
    {
     "name": "stdout",
     "output_type": "stream",
     "text": [
      "performance = \n",
      "- precision = 1.0\n",
      "- recall = 1.0\n",
      "- f1 = 1.0\n"
     ]
    }
   ],
   "source": [
    "# macro-average precision, recall and f1\n",
    "precision = precision_score(y_test, predictions, average='macro')\n",
    "recall = recall_score(y_test, predictions, average='macro')\n",
    "f1 = f1_score(y_test, predictions, average='macro')\n",
    "\n",
    "print('performance = ')\n",
    "print('- precision = ' + str(precision))\n",
    "print('- recall = ' + str(recall))\n",
    "print('- f1 = ' + str(f1))"
   ]
  },
  {
   "cell_type": "code",
   "execution_count": null,
   "id": "f3119f88",
   "metadata": {},
   "outputs": [],
   "source": []
  }
 ],
 "metadata": {
  "kernelspec": {
   "display_name": "Python 3",
   "language": "python",
   "name": "python3"
  },
  "language_info": {
   "codemirror_mode": {
    "name": "ipython",
    "version": 3
   },
   "file_extension": ".py",
   "mimetype": "text/x-python",
   "name": "python",
   "nbconvert_exporter": "python",
   "pygments_lexer": "ipython3",
   "version": "3.8.10"
  }
 },
 "nbformat": 4,
 "nbformat_minor": 5
}
