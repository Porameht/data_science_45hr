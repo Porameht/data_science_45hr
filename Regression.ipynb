{
 "cells": [
  {
   "cell_type": "markdown",
   "id": "89460f8a",
   "metadata": {},
   "source": [
    "# Polyfit & Polyval"
   ]
  },
  {
   "cell_type": "code",
   "execution_count": 34,
   "id": "4bfb674e",
   "metadata": {},
   "outputs": [],
   "source": [
    "import numpy as np"
   ]
  },
  {
   "cell_type": "code",
   "execution_count": 35,
   "id": "c48684bf",
   "metadata": {},
   "outputs": [],
   "source": [
    "x_train = np.array([-1,0,1])\n",
    "y_train = np.array([0,1,3])"
   ]
  },
  {
   "cell_type": "code",
   "execution_count": 36,
   "id": "0fd4b3de",
   "metadata": {},
   "outputs": [
    {
     "name": "stdout",
     "output_type": "stream",
     "text": [
      "[1.5        1.33333333]\n"
     ]
    }
   ],
   "source": [
    "LR_coef = np.polyfit(x_train,y_train, 1)\n",
    "print(LR_coef)"
   ]
  },
  {
   "cell_type": "code",
   "execution_count": 41,
   "id": "99764739",
   "metadata": {},
   "outputs": [
    {
     "name": "stdout",
     "output_type": "stream",
     "text": [
      "4.333333333333333\n"
     ]
    }
   ],
   "source": [
    "# x is 2 y will are? \n",
    "x_test = 2\n",
    "y_test = np.polyval(LR_coef,x_test)\n",
    "print(y_test)"
   ]
  },
  {
   "cell_type": "code",
   "execution_count": 44,
   "id": "cf9e85fa",
   "metadata": {},
   "outputs": [
    {
     "name": "stdout",
     "output_type": "stream",
     "text": [
      "0.9642857142857143\n"
     ]
    }
   ],
   "source": [
    "from sklearn.metrics import r2_score\n",
    "r2_coef = r2_score(y_train, np.polyval(LR_coef,x_train))\n",
    "print(r2_coef)"
   ]
  },
  {
   "cell_type": "markdown",
   "id": "0b8b2e29",
   "metadata": {},
   "source": [
    "# -----"
   ]
  },
  {
   "cell_type": "code",
   "execution_count": 45,
   "id": "879df617",
   "metadata": {},
   "outputs": [],
   "source": [
    "import numpy as np"
   ]
  },
  {
   "cell_type": "code",
   "execution_count": 47,
   "id": "55acfe52",
   "metadata": {},
   "outputs": [],
   "source": [
    "x_train = np.array([1,2,4])\n",
    "y_train = np.array([2,1,3])\n",
    "LR_coef = np.polyfit(x_train,y_train,2)\n"
   ]
  },
  {
   "cell_type": "code",
   "execution_count": 48,
   "id": "44719b90",
   "metadata": {},
   "outputs": [],
   "source": [
    "SSE = np.sum((y_train - np.polyval(LR_coef,x_train))**2)"
   ]
  },
  {
   "cell_type": "code",
   "execution_count": 50,
   "id": "57d10530",
   "metadata": {},
   "outputs": [
    {
     "name": "stdout",
     "output_type": "stream",
     "text": [
      "1.0\n"
     ]
    }
   ],
   "source": [
    "TSS = np.sum((y_train - np.mean(y_train)**2))\n",
    "corr_coef = (TSS-SSE)/TSS\n",
    "print(corr_coef)"
   ]
  },
  {
   "cell_type": "markdown",
   "id": "c4bb8b4d",
   "metadata": {},
   "source": [
    "# polynomial linear regression "
   ]
  },
  {
   "cell_type": "code",
   "execution_count": 4,
   "id": "2cfb4350",
   "metadata": {},
   "outputs": [
    {
     "name": "stdout",
     "output_type": "stream",
     "text": [
      "[ 0.31310896 -1.14564921  1.78865098]\n"
     ]
    }
   ],
   "source": [
    "import numpy as np\n",
    "x_train = np.array([0.95,1.98,2.91,4.02])\n",
    "y_train = np.array([1.02,0.63,1.22,2.21])\n",
    "\n",
    "LR_coef = np.polyfit(x_train,y_train,2)\n",
    "print(LR_coef)"
   ]
  },
  {
   "cell_type": "code",
   "execution_count": 5,
   "id": "29d01a1a",
   "metadata": {},
   "outputs": [
    {
     "name": "stdout",
     "output_type": "stream",
     "text": [
      "0.7497884131640757\n"
     ]
    }
   ],
   "source": [
    "x_test = 2\n",
    "y_test = np.polyval(LR_coef,x_test)\n",
    "print(y_test)"
   ]
  },
  {
   "cell_type": "code",
   "execution_count": 6,
   "id": "7e678f8e",
   "metadata": {},
   "outputs": [
    {
     "name": "stdout",
     "output_type": "stream",
     "text": [
      "0.9784377542338086\n"
     ]
    }
   ],
   "source": [
    "from sklearn.metrics import r2_score\n",
    "r2_coef = r2_score(y_train, np.polyval(LR_coef, x_train))\n",
    "print(r2_coef)"
   ]
  },
  {
   "cell_type": "raw",
   "id": "a62b4db6",
   "metadata": {},
   "source": [
    "# test"
   ]
  },
  {
   "cell_type": "code",
   "execution_count": 8,
   "id": "fa09cdc8",
   "metadata": {},
   "outputs": [],
   "source": [
    "import numpy as np"
   ]
  },
  {
   "cell_type": "code",
   "execution_count": 9,
   "id": "e154c4df",
   "metadata": {},
   "outputs": [],
   "source": [
    "x_train = np.array([1,2,4])\n",
    "y_train = np.array([2,1,3])"
   ]
  },
  {
   "cell_type": "code",
   "execution_count": 11,
   "id": "2ea6dc96",
   "metadata": {
    "collapsed": true
   },
   "outputs": [
    {
     "name": "stdout",
     "output_type": "stream",
     "text": [
      "[ 0.66666667 -3.          4.33333333]\n"
     ]
    }
   ],
   "source": [
    "LR_coef = np.polyfit(x_train,y_train,2)\n",
    "print(LR_coef)"
   ]
  },
  {
   "cell_type": "code",
   "execution_count": 13,
   "id": "6eb5ebce",
   "metadata": {
    "collapsed": true
   },
   "outputs": [
    {
     "name": "stdout",
     "output_type": "stream",
     "text": [
      "-8.000000000000018\n"
     ]
    }
   ],
   "source": [
    "SSE = np.sum((y_train - np.polyval(LR_coef, x_train)**2))\n",
    "print(SSE)"
   ]
  },
  {
   "cell_type": "code",
   "execution_count": 14,
   "id": "3f7a4649",
   "metadata": {
    "collapsed": true
   },
   "outputs": [
    {
     "name": "stdout",
     "output_type": "stream",
     "text": [
      "-6.0\n"
     ]
    }
   ],
   "source": [
    "TSS = np.sum((y_train - np.mean(y_train)**2))\n",
    "print(TSS)"
   ]
  },
  {
   "cell_type": "code",
   "execution_count": 16,
   "id": "83b58fd8",
   "metadata": {
    "collapsed": true
   },
   "outputs": [
    {
     "name": "stdout",
     "output_type": "stream",
     "text": [
      "-0.3333333333333363\n"
     ]
    }
   ],
   "source": [
    "corr_coef = (TSS-SSE)/TSS\n",
    "print(corr_coef)"
   ]
  },
  {
   "cell_type": "code",
   "execution_count": null,
   "id": "6812f80e",
   "metadata": {},
   "outputs": [],
   "source": []
  }
 ],
 "metadata": {
  "kernelspec": {
   "display_name": "Python 3",
   "language": "python",
   "name": "python3"
  },
  "language_info": {
   "codemirror_mode": {
    "name": "ipython",
    "version": 3
   },
   "file_extension": ".py",
   "mimetype": "text/x-python",
   "name": "python",
   "nbconvert_exporter": "python",
   "pygments_lexer": "ipython3",
   "version": "3.8.10"
  }
 },
 "nbformat": 4,
 "nbformat_minor": 5
}
